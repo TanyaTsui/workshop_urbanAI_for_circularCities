{
 "cells": [
  {
   "cell_type": "markdown",
   "id": "0dd52466",
   "metadata": {},
   "source": [
    "# Circular Cities and Spatial Data Science (10 min)\n",
    "\n",
    "In this hands-on workshop, we’ll explore how spatial data can help us design more **circular cities** — linking where materials come from (demolition) and where they go (construction).\n",
    "\n",
    "You’ll learn how to:\n",
    "1. Load and visualize spatial data (roads, hubs, materials)\n",
    "2. Calculate travel distances along a road network\n",
    "3. Measure accessibility for one hub\n",
    "4. Compare all hubs and map circular hotspots\n",
    "\n",
    "**Why it matters:**  \n",
    "By connecting material supply and demand across the city, we can reduce waste, transport emissions, and resource use — making cities more circular and sustainable.\n",
    "\n",
    "Let’s start by loading our data.\n"
   ]
  },
  {
   "cell_type": "markdown",
   "id": "07d37f6f",
   "metadata": {},
   "source": [
    "# Step 1: Load our spatial data (15 min)\n",
    "\n",
    "In this part, we’ll load three simple map layers (called *shapefiles*) that represent:\n",
    "- **Roads** – the network connecting different parts of the city  \n",
    "- **Potential hubs** – possible collection or recycling centers  \n",
    "- **Materials** – locations where materials are supplied or needed  \n",
    "\n",
    "We’ll use a Python library called **GeoPandas**, which helps us work with map data the same way we work with tables."
   ]
  },
  {
   "cell_type": "code",
   "execution_count": 118,
   "id": "c66dccc3",
   "metadata": {},
   "outputs": [
    {
     "name": "stdout",
     "output_type": "stream",
     "text": [
      "Roads: 534 rows\n",
      "Hubs: 139 rows\n",
      "Materials: 7411 rows\n"
     ]
    }
   ],
   "source": [
    "# Import libraries we need\n",
    "# pandas = for handling data tables\n",
    "# geopandas = for handling map (spatial) data\n",
    "import pandas as pd\n",
    "import geopandas as gpd\n",
    "\n",
    "# Load each shapefile (these are like spreadsheets with geometry)\n",
    "roads = gpd.read_file(\"data/roads.shp\")\n",
    "hubs = gpd.read_file(\"data/hubs.shp\")\n",
    "materials = gpd.read_file(\"data/materials.shp\")\n",
    "\n",
    "# Check that our data loaded correctly\n",
    "print(\"Roads:\", len(roads), \"rows\")\n",
    "print(\"Hubs:\", len(hubs), \"rows\")\n",
    "print(\"Materials:\", len(materials), \"rows\")"
   ]
  },
  {
   "cell_type": "markdown",
   "id": "d393fe09",
   "metadata": {},
   "source": [
    "Each table has a **geometry** column — this tells Python where each feature (like a road or hub) is located on the map."
   ]
  },
  {
   "cell_type": "code",
   "execution_count": 120,
   "id": "a367f822",
   "metadata": {},
   "outputs": [
    {
     "data": {
      "text/html": [
       "<div>\n",
       "<style scoped>\n",
       "    .dataframe tbody tr th:only-of-type {\n",
       "        vertical-align: middle;\n",
       "    }\n",
       "\n",
       "    .dataframe tbody tr th {\n",
       "        vertical-align: top;\n",
       "    }\n",
       "\n",
       "    .dataframe thead th {\n",
       "        text-align: right;\n",
       "    }\n",
       "</style>\n",
       "<table border=\"1\" class=\"dataframe\">\n",
       "  <thead>\n",
       "    <tr style=\"text-align: right;\">\n",
       "      <th></th>\n",
       "      <th>FID</th>\n",
       "      <th>geometry</th>\n",
       "    </tr>\n",
       "  </thead>\n",
       "  <tbody>\n",
       "    <tr>\n",
       "      <th>0</th>\n",
       "      <td>0</td>\n",
       "      <td>LINESTRING (135854.905 496582.873, 134676.896 ...</td>\n",
       "    </tr>\n",
       "    <tr>\n",
       "      <th>1</th>\n",
       "      <td>1</td>\n",
       "      <td>LINESTRING (131073.398 496613.301, 130760.604 ...</td>\n",
       "    </tr>\n",
       "  </tbody>\n",
       "</table>\n",
       "</div>"
      ],
      "text/plain": [
       "   FID                                           geometry\n",
       "0    0  LINESTRING (135854.905 496582.873, 134676.896 ...\n",
       "1    1  LINESTRING (131073.398 496613.301, 130760.604 ..."
      ]
     },
     "metadata": {},
     "output_type": "display_data"
    },
    {
     "data": {
      "text/html": [
       "<div>\n",
       "<style scoped>\n",
       "    .dataframe tbody tr th:only-of-type {\n",
       "        vertical-align: middle;\n",
       "    }\n",
       "\n",
       "    .dataframe tbody tr th {\n",
       "        vertical-align: top;\n",
       "    }\n",
       "\n",
       "    .dataframe thead th {\n",
       "        text-align: right;\n",
       "    }\n",
       "</style>\n",
       "<table border=\"1\" class=\"dataframe\">\n",
       "  <thead>\n",
       "    <tr style=\"text-align: right;\">\n",
       "      <th></th>\n",
       "      <th>RIN_NUMMER</th>\n",
       "      <th>MAX_MILIEU</th>\n",
       "      <th>pPerSqm</th>\n",
       "      <th>hubName</th>\n",
       "      <th>geometry</th>\n",
       "    </tr>\n",
       "  </thead>\n",
       "  <tbody>\n",
       "    <tr>\n",
       "      <th>0</th>\n",
       "      <td>1224</td>\n",
       "      <td>3</td>\n",
       "      <td>368.842673</td>\n",
       "      <td>0</td>\n",
       "      <td>POINT (127087.684 476511.77)</td>\n",
       "    </tr>\n",
       "    <tr>\n",
       "      <th>1</th>\n",
       "      <td>26201302</td>\n",
       "      <td>3</td>\n",
       "      <td>369.137643</td>\n",
       "      <td>1</td>\n",
       "      <td>POINT (128235.111 473682.661)</td>\n",
       "    </tr>\n",
       "  </tbody>\n",
       "</table>\n",
       "</div>"
      ],
      "text/plain": [
       "  RIN_NUMMER  MAX_MILIEU     pPerSqm  hubName                       geometry\n",
       "0       1224           3  368.842673        0   POINT (127087.684 476511.77)\n",
       "1   26201302           3  369.137643        1  POINT (128235.111 473682.661)"
      ]
     },
     "metadata": {},
     "output_type": "display_data"
    },
    {
     "data": {
      "text/html": [
       "<div>\n",
       "<style scoped>\n",
       "    .dataframe tbody tr th:only-of-type {\n",
       "        vertical-align: middle;\n",
       "    }\n",
       "\n",
       "    .dataframe tbody tr th {\n",
       "        vertical-align: top;\n",
       "    }\n",
       "\n",
       "    .dataframe thead th {\n",
       "        text-align: right;\n",
       "    }\n",
       "</style>\n",
       "<table border=\"1\" class=\"dataframe\">\n",
       "  <thead>\n",
       "    <tr style=\"text-align: right;\">\n",
       "      <th></th>\n",
       "      <th>kgDemand</th>\n",
       "      <th>kgSupply</th>\n",
       "      <th>geometry</th>\n",
       "    </tr>\n",
       "  </thead>\n",
       "  <tbody>\n",
       "    <tr>\n",
       "      <th>0</th>\n",
       "      <td>94892.742141</td>\n",
       "      <td>0.0</td>\n",
       "      <td>POINT (98100 473500)</td>\n",
       "    </tr>\n",
       "    <tr>\n",
       "      <th>1</th>\n",
       "      <td>94892.742141</td>\n",
       "      <td>0.0</td>\n",
       "      <td>POINT (98100 473600)</td>\n",
       "    </tr>\n",
       "  </tbody>\n",
       "</table>\n",
       "</div>"
      ],
      "text/plain": [
       "       kgDemand  kgSupply              geometry\n",
       "0  94892.742141       0.0  POINT (98100 473500)\n",
       "1  94892.742141       0.0  POINT (98100 473600)"
      ]
     },
     "metadata": {},
     "output_type": "display_data"
    }
   ],
   "source": [
    "# Let’s quickly preview what our data looks like\n",
    "display(roads.head(2))\n",
    "display(hubs.head(2))\n",
    "display(materials.head(2))"
   ]
  },
  {
   "cell_type": "markdown",
   "id": "78e1c475",
   "metadata": {},
   "source": [
    "Now, let’s take a look at everything on the map!"
   ]
  },
  {
   "cell_type": "code",
   "execution_count": 123,
   "id": "617052cc",
   "metadata": {},
   "outputs": [
    {
     "data": {
      "text/plain": [
       "Text(0.5, 1.0, 'Overview of Roads, Hubs, and Materials')"
      ]
     },
     "execution_count": 123,
     "metadata": {},
     "output_type": "execute_result"
    },
    {
     "data": {
      "image/png": "[encoded data removed]",
      "text/plain": [
       "<Figure size 600x600 with 1 Axes>"
      ]
     },
     "metadata": {},
     "output_type": "display_data"
    }
   ],
   "source": [
    "# Plot all three layers together\n",
    "ax = roads.plot(color=\"lightgrey\", linewidth=1, figsize=(6, 6))\n",
    "materials.plot(ax=ax, color=\"orange\", markersize=10, label=\"Materials\")\n",
    "hubs.plot(ax=ax, color=\"blue\", markersize=20, marker=\"x\", label=\"Hubs\")\n",
    "\n",
    "# Add legend and title\n",
    "ax.legend()\n",
    "ax.set_title(\"Overview of Roads, Hubs, and Materials\")"
   ]
  },
  {
   "cell_type": "markdown",
   "id": "e1acfb93",
   "metadata": {},
   "source": [
    "✅ **Checkpoint:** You’ve just loaded and visualized your first spatial dataset!\n",
    "\n",
    "**Think about:**  \n",
    "- What patterns can you already see?  \n",
    "- Where are most of the materials located — close to roads or far away?"
   ]
  },
  {
   "cell_type": "markdown",
   "id": "1a44e2ae",
   "metadata": {},
   "source": [
    "# Step 2: Calculate distances between materials and hubs (15 min)\n",
    "\n",
    "Now that we’ve seen our spatial data, we’ll calculate how far each **material location** is from each **hub**.\n",
    "\n",
    "We’ll do this using a library called **Spaghetti**, which helps us work with *networks* — in this case, the **road network**.  \n",
    "Think of it as measuring how far things are if you travel *along the roads*, not in a straight line.\n",
    "\n",
    "We’ll create what’s called a **distance matrix** — a table showing the travel distance from every material location to every hub.\n"
   ]
  },
  {
   "cell_type": "code",
   "execution_count": null,
   "id": "e2fe0697",
   "metadata": {},
   "outputs": [],
   "source": [
    "# Import libraries for spatial analysis\n",
    "import spaghetti   # For road network analysis\n",
    "import numpy as np  # For handling numbers"
   ]
  },
  {
   "cell_type": "code",
   "execution_count": null,
   "id": "c14cc4a5",
   "metadata": {},
   "outputs": [
    {
     "name": "stderr",
     "output_type": "stream",
     "text": [
      "/Users/tsuitpy/miniconda3/envs/geo_env/lib/python3.10/site-packages/spaghetti/network.py:3412: FutureWarning: Objects based on the `Geometry` class will deprecated and removed in a future version of libpysal.\n",
      "  pts = [cg.shapes.Point((p.x, p.y)) for p in pts_objs]\n",
      "/Users/tsuitpy/miniconda3/envs/geo_env/lib/python3.10/site-packages/spaghetti/util.py:572: FutureWarning: Objects based on the `Geometry` class will deprecated and removed in a future version of libpysal.\n",
      "  return cg.Chain([cg.Point(_vcoords[v]) for v in _vs] if _vcoords else _vs)\n",
      "/Users/tsuitpy/miniconda3/envs/geo_env/lib/python3.10/site-packages/libpysal/cg/shapes.py:1025: FutureWarning: Objects based on the `Geometry` class will deprecated and removed in a future version of libpysal.\n",
      "  self._bounding_box = Rectangle(\n",
      "/Users/tsuitpy/miniconda3/envs/geo_env/lib/python3.10/site-packages/spaghetti/network.py:3412: FutureWarning: Objects based on the `Geometry` class will deprecated and removed in a future version of libpysal.\n",
      "  pts = [cg.shapes.Point((p.x, p.y)) for p in pts_objs]\n",
      "/Users/tsuitpy/miniconda3/envs/geo_env/lib/python3.10/site-packages/spaghetti/util.py:572: FutureWarning: Objects based on the `Geometry` class will deprecated and removed in a future version of libpysal.\n",
      "  return cg.Chain([cg.Point(_vcoords[v]) for v in _vs] if _vcoords else _vs)\n",
      "/Users/tsuitpy/miniconda3/envs/geo_env/lib/python3.10/site-packages/libpysal/cg/shapes.py:1025: FutureWarning: Objects based on the `Geometry` class will deprecated and removed in a future version of libpysal.\n",
      "  self._bounding_box = Rectangle(\n"
     ]
    }
   ],
   "source": [
    "# Step 1: Create a road network\n",
    "road_network = spaghetti.Network(in_data=roads)\n",
    "print(\"Road network created with\", len(roads), \"road segments\")\n",
    "\n",
    "# Step 2: Snap material and hub points to the road network\n",
    "road_network.snapobservations(materials, \"materials\", attribute=True)\n",
    "road_network.snapobservations(hubs, \"hubs\", attribute=True)\n",
    "print(\"Snapped materials and hubs to the road network\")\n",
    "\n",
    "# Step 3: Compute distances from each material to each hub\n",
    "distance_matrix = road_network.allneighbordistances(\n",
    "    sourcepattern=road_network.pointpatterns[\"materials\"],\n",
    "    destpattern=road_network.pointpatterns[\"hubs\"],\n",
    ")\n",
    "print(\"Distance matrix calculated!\")\n"
   ]
  },
  {
   "cell_type": "markdown",
   "id": "06fd0add",
   "metadata": {},
   "source": [
    "✅ **Checkpoint:** You’ve just created a table that tells us how far each material location is from each hub along the road network."
   ]
  },
  {
   "cell_type": "code",
   "execution_count": 125,
   "id": "e49d66b5",
   "metadata": {},
   "outputs": [
    {
     "data": {
      "text/html": [
       "<div>\n",
       "<style scoped>\n",
       "    .dataframe tbody tr th:only-of-type {\n",
       "        vertical-align: middle;\n",
       "    }\n",
       "\n",
       "    .dataframe tbody tr th {\n",
       "        vertical-align: top;\n",
       "    }\n",
       "\n",
       "    .dataframe thead th {\n",
       "        text-align: right;\n",
       "    }\n",
       "</style>\n",
       "<table border=\"1\" class=\"dataframe\">\n",
       "  <thead>\n",
       "    <tr style=\"text-align: right;\">\n",
       "      <th>hub_id</th>\n",
       "      <th>0</th>\n",
       "      <th>1</th>\n",
       "      <th>2</th>\n",
       "      <th>3</th>\n",
       "      <th>4</th>\n",
       "      <th>5</th>\n",
       "      <th>6</th>\n",
       "      <th>7</th>\n",
       "      <th>8</th>\n",
       "      <th>9</th>\n",
       "      <th>...</th>\n",
       "      <th>129</th>\n",
       "      <th>130</th>\n",
       "      <th>131</th>\n",
       "      <th>132</th>\n",
       "      <th>133</th>\n",
       "      <th>134</th>\n",
       "      <th>135</th>\n",
       "      <th>136</th>\n",
       "      <th>137</th>\n",
       "      <th>138</th>\n",
       "    </tr>\n",
       "    <tr>\n",
       "      <th>material_id</th>\n",
       "      <th></th>\n",
       "      <th></th>\n",
       "      <th></th>\n",
       "      <th></th>\n",
       "      <th></th>\n",
       "      <th></th>\n",
       "      <th></th>\n",
       "      <th></th>\n",
       "      <th></th>\n",
       "      <th></th>\n",
       "      <th></th>\n",
       "      <th></th>\n",
       "      <th></th>\n",
       "      <th></th>\n",
       "      <th></th>\n",
       "      <th></th>\n",
       "      <th></th>\n",
       "      <th></th>\n",
       "      <th></th>\n",
       "      <th></th>\n",
       "      <th></th>\n",
       "    </tr>\n",
       "  </thead>\n",
       "  <tbody>\n",
       "    <tr>\n",
       "      <th>0</th>\n",
       "      <td>36218.171904</td>\n",
       "      <td>37827.610122</td>\n",
       "      <td>33393.683196</td>\n",
       "      <td>39907.561119</td>\n",
       "      <td>40053.224114</td>\n",
       "      <td>52433.005338</td>\n",
       "      <td>54905.503753</td>\n",
       "      <td>54962.798387</td>\n",
       "      <td>57141.905060</td>\n",
       "      <td>52135.603083</td>\n",
       "      <td>...</td>\n",
       "      <td>7850.469737</td>\n",
       "      <td>7315.728895</td>\n",
       "      <td>11188.931040</td>\n",
       "      <td>5444.918839</td>\n",
       "      <td>2178.726732</td>\n",
       "      <td>23979.533405</td>\n",
       "      <td>6375.472845</td>\n",
       "      <td>612.397276</td>\n",
       "      <td>10333.680423</td>\n",
       "      <td>51885.174692</td>\n",
       "    </tr>\n",
       "    <tr>\n",
       "      <th>1</th>\n",
       "      <td>36218.171906</td>\n",
       "      <td>37827.610125</td>\n",
       "      <td>33393.683199</td>\n",
       "      <td>39907.561122</td>\n",
       "      <td>40053.224117</td>\n",
       "      <td>52433.005341</td>\n",
       "      <td>54905.503755</td>\n",
       "      <td>54962.798389</td>\n",
       "      <td>57141.905063</td>\n",
       "      <td>52135.603086</td>\n",
       "      <td>...</td>\n",
       "      <td>7850.469737</td>\n",
       "      <td>7315.728895</td>\n",
       "      <td>11188.931043</td>\n",
       "      <td>5444.918839</td>\n",
       "      <td>2178.726732</td>\n",
       "      <td>23979.533408</td>\n",
       "      <td>6375.472845</td>\n",
       "      <td>612.397279</td>\n",
       "      <td>10333.680425</td>\n",
       "      <td>51885.174695</td>\n",
       "    </tr>\n",
       "    <tr>\n",
       "      <th>2</th>\n",
       "      <td>36280.485055</td>\n",
       "      <td>37889.923274</td>\n",
       "      <td>33455.996348</td>\n",
       "      <td>39969.874270</td>\n",
       "      <td>40115.537266</td>\n",
       "      <td>52495.318489</td>\n",
       "      <td>54967.816904</td>\n",
       "      <td>55025.111538</td>\n",
       "      <td>57204.218211</td>\n",
       "      <td>52197.916235</td>\n",
       "      <td>...</td>\n",
       "      <td>7788.156592</td>\n",
       "      <td>7253.415750</td>\n",
       "      <td>11251.244192</td>\n",
       "      <td>5382.605694</td>\n",
       "      <td>2116.413588</td>\n",
       "      <td>24041.846556</td>\n",
       "      <td>6313.159701</td>\n",
       "      <td>674.710428</td>\n",
       "      <td>10395.993574</td>\n",
       "      <td>51947.487843</td>\n",
       "    </tr>\n",
       "    <tr>\n",
       "      <th>3</th>\n",
       "      <td>36377.951538</td>\n",
       "      <td>37987.389757</td>\n",
       "      <td>33553.462831</td>\n",
       "      <td>40067.340754</td>\n",
       "      <td>40213.003749</td>\n",
       "      <td>52592.784973</td>\n",
       "      <td>55065.283387</td>\n",
       "      <td>55122.578022</td>\n",
       "      <td>57301.684695</td>\n",
       "      <td>52295.382718</td>\n",
       "      <td>...</td>\n",
       "      <td>7690.690109</td>\n",
       "      <td>7155.949267</td>\n",
       "      <td>11348.710675</td>\n",
       "      <td>5285.139211</td>\n",
       "      <td>2018.947105</td>\n",
       "      <td>24139.313040</td>\n",
       "      <td>6215.693217</td>\n",
       "      <td>772.176911</td>\n",
       "      <td>10493.460058</td>\n",
       "      <td>52044.954327</td>\n",
       "    </tr>\n",
       "    <tr>\n",
       "      <th>4</th>\n",
       "      <td>36381.945802</td>\n",
       "      <td>37991.384021</td>\n",
       "      <td>34137.506609</td>\n",
       "      <td>40651.384531</td>\n",
       "      <td>40797.047527</td>\n",
       "      <td>52596.779237</td>\n",
       "      <td>55069.277652</td>\n",
       "      <td>55126.572286</td>\n",
       "      <td>57305.678959</td>\n",
       "      <td>52299.376982</td>\n",
       "      <td>...</td>\n",
       "      <td>6426.185683</td>\n",
       "      <td>5891.444842</td>\n",
       "      <td>12613.215096</td>\n",
       "      <td>4020.634786</td>\n",
       "      <td>754.442679</td>\n",
       "      <td>24723.356817</td>\n",
       "      <td>4951.188792</td>\n",
       "      <td>2036.681332</td>\n",
       "      <td>11077.503835</td>\n",
       "      <td>52048.948591</td>\n",
       "    </tr>\n",
       "  </tbody>\n",
       "</table>\n",
       "<p>5 rows × 139 columns</p>\n",
       "</div>"
      ],
      "text/plain": [
       "hub_id                0             1             2             3    \\\n",
       "material_id                                                           \n",
       "0            36218.171904  37827.610122  33393.683196  39907.561119   \n",
       "1            36218.171906  37827.610125  33393.683199  39907.561122   \n",
       "2            36280.485055  37889.923274  33455.996348  39969.874270   \n",
       "3            36377.951538  37987.389757  33553.462831  40067.340754   \n",
       "4            36381.945802  37991.384021  34137.506609  40651.384531   \n",
       "\n",
       "hub_id                4             5             6             7    \\\n",
       "material_id                                                           \n",
       "0            40053.224114  52433.005338  54905.503753  54962.798387   \n",
       "1            40053.224117  52433.005341  54905.503755  54962.798389   \n",
       "2            40115.537266  52495.318489  54967.816904  55025.111538   \n",
       "3            40213.003749  52592.784973  55065.283387  55122.578022   \n",
       "4            40797.047527  52596.779237  55069.277652  55126.572286   \n",
       "\n",
       "hub_id                8             9    ...          129          130  \\\n",
       "material_id                              ...                             \n",
       "0            57141.905060  52135.603083  ...  7850.469737  7315.728895   \n",
       "1            57141.905063  52135.603086  ...  7850.469737  7315.728895   \n",
       "2            57204.218211  52197.916235  ...  7788.156592  7253.415750   \n",
       "3            57301.684695  52295.382718  ...  7690.690109  7155.949267   \n",
       "4            57305.678959  52299.376982  ...  6426.185683  5891.444842   \n",
       "\n",
       "hub_id                131          132          133           134  \\\n",
       "material_id                                                         \n",
       "0            11188.931040  5444.918839  2178.726732  23979.533405   \n",
       "1            11188.931043  5444.918839  2178.726732  23979.533408   \n",
       "2            11251.244192  5382.605694  2116.413588  24041.846556   \n",
       "3            11348.710675  5285.139211  2018.947105  24139.313040   \n",
       "4            12613.215096  4020.634786   754.442679  24723.356817   \n",
       "\n",
       "hub_id               135          136           137           138  \n",
       "material_id                                                        \n",
       "0            6375.472845   612.397276  10333.680423  51885.174692  \n",
       "1            6375.472845   612.397279  10333.680425  51885.174695  \n",
       "2            6313.159701   674.710428  10395.993574  51947.487843  \n",
       "3            6215.693217   772.176911  10493.460058  52044.954327  \n",
       "4            4951.188792  2036.681332  11077.503835  52048.948591  \n",
       "\n",
       "[5 rows x 139 columns]"
      ]
     },
     "execution_count": 125,
     "metadata": {},
     "output_type": "execute_result"
    }
   ],
   "source": [
    "# Turn the distance matrix into a readable table\n",
    "distance_matrix_df = (\n",
    "    pd.DataFrame(distance_matrix)\n",
    "    .rename_axis(index=\"material_id\", columns=\"hub_id\")\n",
    ")\n",
    "\n",
    "# Show the first few rows\n",
    "distance_matrix_df.head()"
   ]
  },
  {
   "cell_type": "markdown",
   "id": "01fb5dbf",
   "metadata": {},
   "source": [
    "Each row is a **material site**, and each column is a **hub**.  \n",
    "The number in the table shows the travel distance (in meters) between them."
   ]
  },
  {
   "cell_type": "code",
   "execution_count": 126,
   "id": "26cdceb7",
   "metadata": {},
   "outputs": [
    {
     "name": "stdout",
     "output_type": "stream",
     "text": [
      "Saved distance matrix to data/distance_matrix.csv\n"
     ]
    }
   ],
   "source": [
    "# Optional: Save to file so we can use it later\n",
    "distance_matrix_df.to_csv(\"data/distance_matrix.csv\", index=True)\n",
    "print(\"Saved distance matrix to data/distance_matrix.csv\")"
   ]
  },
  {
   "cell_type": "markdown",
   "id": "af174697",
   "metadata": {},
   "source": [
    "Now that we’ve calculated distances, we can start asking interesting questions —  \n",
    "like **“Which hubs can reach the most material sources within 10 km?”**\n",
    "\n",
    "Let’s explore that next!"
   ]
  },
  {
   "cell_type": "markdown",
   "id": "29d92939",
   "metadata": {},
   "source": [
    "# Step 3: Explore one hub (20 min)\n",
    "\n",
    "Now that we know the distance between every **material site** and **hub**,  \n",
    "let’s start small and look at **just one hub**.\n",
    "\n",
    "We’ll answer three simple questions:\n",
    "1. Which material sites are within 10 km of this hub?  \n",
    "2. How much material (supply) can it collect nearby?  \n",
    "3. How much material demand is in its surroundings?\n",
    "\n",
    "This helps us understand how connected and useful each hub might be for circular material flows."
   ]
  },
  {
   "cell_type": "code",
   "execution_count": 128,
   "id": "77665d89",
   "metadata": {},
   "outputs": [
    {
     "name": "stdout",
     "output_type": "stream",
     "text": [
      "Analyzing Hub 15 within 10.0 km...\n"
     ]
    }
   ],
   "source": [
    "# Choose one hub (you can change this number to explore others)\n",
    "hub_id = 15\n",
    "\n",
    "# Define what \"nearby\" means — here, 10 kilometers\n",
    "max_travel_distance = 10_000  # meters\n",
    "\n",
    "print(f\"Analyzing Hub {hub_id} within {max_travel_distance/1000} km...\")"
   ]
  },
  {
   "cell_type": "code",
   "execution_count": 129,
   "id": "ea3e5b1d",
   "metadata": {},
   "outputs": [
    {
     "name": "stdout",
     "output_type": "stream",
     "text": [
      "Hub 15 can reach 1036 material locations within 10 km.\n"
     ]
    }
   ],
   "source": [
    "# Get distances from this hub to all material sites\n",
    "selected_hub_distances = distance_matrix_df[hub_id]\n",
    "\n",
    "# Keep only the materials within 10 km\n",
    "accessible_material_ids = selected_hub_distances[selected_hub_distances <= max_travel_distance].index\n",
    "\n",
    "# Select those materials from our main dataset\n",
    "accessible_materials = materials.loc[materials.index.isin(accessible_material_ids)]\n",
    "\n",
    "print(f\"Hub {hub_id} can reach {len(accessible_materials)} material locations within {max_travel_distance/1000:.0f} km.\")"
   ]
  },
  {
   "cell_type": "code",
   "execution_count": 130,
   "id": "c549429c",
   "metadata": {},
   "outputs": [
    {
     "name": "stdout",
     "output_type": "stream",
     "text": [
      "Total material supply: 80.0 kilo-tons\n",
      "Total material demand: 404.8 kilo-tons\n"
     ]
    }
   ],
   "source": [
    "# Calculate total supply (demolition materials) and demand (construction needs)\n",
    "total_supply = accessible_materials.kgSupply.sum() / 1_000_000  # convert to kilo-tons\n",
    "total_demand = accessible_materials.kgDemand.sum() / 1_000_000\n",
    "\n",
    "print(f\"Total material supply: {total_supply:.1f} kilo-tons\")\n",
    "print(f\"Total material demand: {total_demand:.1f} kilo-tons\")"
   ]
  },
  {
   "cell_type": "code",
   "execution_count": 131,
   "id": "e49e1f61",
   "metadata": {},
   "outputs": [
    {
     "data": {
      "image/png": "[encoded data removed]",
      "text/plain": [
       "<Figure size 800x800 with 1 Axes>"
      ]
     },
     "metadata": {},
     "output_type": "display_data"
    }
   ],
   "source": [
    "import matplotlib.pyplot as plt\n",
    "\n",
    "# Plot the map to see which materials are accessible for this hub\n",
    "ax = roads.plot(color=\"lightgrey\", linewidth=1, figsize=(8, 8))\n",
    "materials.plot(ax=ax, color=\"lightgrey\", markersize=10, label=\"All materials\")\n",
    "hubs.plot(ax=ax, color=\"grey\", marker=\"+\", label=\"All hubs\")\n",
    "\n",
    "# Highlight the accessible materials and the selected hub\n",
    "accessible_materials.plot(ax=ax, color=\"red\", markersize=30, label=\"Accessible materials\")\n",
    "hubs.iloc[[hub_id]].plot(ax=ax, color=\"black\", marker=\"x\", markersize=120, label=\"Selected hub\")\n",
    "\n",
    "plt.legend()\n",
    "plt.title(f\"Hub {hub_id}: Accessible materials within {max_travel_distance/1000:.0f} km\")\n",
    "plt.show()"
   ]
  },
  {
   "cell_type": "markdown",
   "id": "56b9f9c4",
   "metadata": {},
   "source": [
    "✅ **Checkpoint:**  \n",
    "You’ve just measured how well one hub is connected to nearby material flows!\n",
    "\n",
    "Here’s what the map shows:\n",
    "- **Grey dots:** all material sites (supply and demand)  \n",
    "- **Red dots:** materials this hub can reach within 10 km  \n",
    "- **Black cross:** the hub you analyzed  \n",
    "\n",
    "**Questions to think about:**\n",
    "- Are most of the reachable materials near roads or clustered together?  \n",
    "- Does the hub seem well-located for collecting materials efficiently?  \n",
    "- What might happen if you increase the distance from 10 km to 20 km?\n"
   ]
  },
  {
   "cell_type": "markdown",
   "id": "b657ec2e",
   "metadata": {},
   "source": [
    "# Step 4: Analyze all hubs (20 min)\n",
    "\n",
    "Now that we know how to measure accessibility for **one hub**,  \n",
    "let’s repeat the same process for **every hub** in our dataset.\n",
    "\n",
    "This will help us:\n",
    "- Compare how well each hub can access nearby material sites  \n",
    "- Identify which hubs have the most **material supply** or **demand** nearby"
   ]
  },
  {
   "cell_type": "markdown",
   "id": "7953c70b",
   "metadata": {},
   "source": [
    "We’ll do three things:\n",
    "1. Go through each hub one by one  \n",
    "2. Count how many material sites it can reach within 10 km  \n",
    "3. Add up the total supply and demand of those materials  \n",
    "\n",
    "We’ll store all these results in a table for easy comparison."
   ]
  },
  {
   "cell_type": "code",
   "execution_count": 132,
   "id": "d3ab563d",
   "metadata": {},
   "outputs": [
    {
     "data": {
      "text/html": [
       "<div>\n",
       "<style scoped>\n",
       "    .dataframe tbody tr th:only-of-type {\n",
       "        vertical-align: middle;\n",
       "    }\n",
       "\n",
       "    .dataframe tbody tr th {\n",
       "        vertical-align: top;\n",
       "    }\n",
       "\n",
       "    .dataframe thead th {\n",
       "        text-align: right;\n",
       "    }\n",
       "</style>\n",
       "<table border=\"1\" class=\"dataframe\">\n",
       "  <thead>\n",
       "    <tr style=\"text-align: right;\">\n",
       "      <th></th>\n",
       "      <th>hub_id</th>\n",
       "      <th>total_supply_kilotons</th>\n",
       "      <th>total_demand_kilotons</th>\n",
       "    </tr>\n",
       "  </thead>\n",
       "  <tbody>\n",
       "    <tr>\n",
       "      <th>0</th>\n",
       "      <td>0</td>\n",
       "      <td>22.427595</td>\n",
       "      <td>135.119577</td>\n",
       "    </tr>\n",
       "    <tr>\n",
       "      <th>1</th>\n",
       "      <td>1</td>\n",
       "      <td>3.483606</td>\n",
       "      <td>66.467124</td>\n",
       "    </tr>\n",
       "    <tr>\n",
       "      <th>2</th>\n",
       "      <td>2</td>\n",
       "      <td>1.492943</td>\n",
       "      <td>16.745422</td>\n",
       "    </tr>\n",
       "    <tr>\n",
       "      <th>3</th>\n",
       "      <td>3</td>\n",
       "      <td>0.518091</td>\n",
       "      <td>13.719306</td>\n",
       "    </tr>\n",
       "    <tr>\n",
       "      <th>4</th>\n",
       "      <td>4</td>\n",
       "      <td>0.518091</td>\n",
       "      <td>13.719306</td>\n",
       "    </tr>\n",
       "  </tbody>\n",
       "</table>\n",
       "</div>"
      ],
      "text/plain": [
       "   hub_id  total_supply_kilotons  total_demand_kilotons\n",
       "0       0              22.427595             135.119577\n",
       "1       1               3.483606              66.467124\n",
       "2       2               1.492943              16.745422\n",
       "3       3               0.518091              13.719306\n",
       "4       4               0.518091              13.719306"
      ]
     },
     "execution_count": 132,
     "metadata": {},
     "output_type": "execute_result"
    }
   ],
   "source": [
    "# Define the same travel distance as before\n",
    "max_travel_distance = 10_000  # 10 km\n",
    "\n",
    "# Prepare an empty list to store results\n",
    "results = []\n",
    "\n",
    "# Go through each hub and calculate total reachable materials\n",
    "for hub_id in distance_matrix_df.columns:\n",
    "    selected_hub_distances = distance_matrix_df[hub_id]\n",
    "    accessible_material_ids = selected_hub_distances[selected_hub_distances <= max_travel_distance].index\n",
    "    accessible_materials = materials.loc[materials.index.isin(accessible_material_ids)]\n",
    "\n",
    "    # Calculate total supply and demand (convert to kilo-tons)\n",
    "    total_supply = accessible_materials.kgSupply.sum() / 1_000_000\n",
    "    total_demand = accessible_materials.kgDemand.sum() / 1_000_000\n",
    "\n",
    "    results.append({\n",
    "        \"hub_id\": hub_id,\n",
    "        \"total_supply_kilotons\": total_supply,\n",
    "        \"total_demand_kilotons\": total_demand\n",
    "    })\n",
    "\n",
    "# Combine all results into a DataFrame\n",
    "hub_summary = pd.DataFrame(results)\n",
    "\n",
    "# Preview the results\n",
    "hub_summary.head()"
   ]
  },
  {
   "cell_type": "markdown",
   "id": "c948d71e",
   "metadata": {},
   "source": [
    "✅ **Checkpoint:**  \n",
    "We now have a table showing, for each hub:\n",
    "- How much material supply it can reach within 10 km  \n",
    "- How much demand there is in the same area  \n",
    "\n",
    "Let’s visualize this to see which hubs perform best.\n"
   ]
  },
  {
   "cell_type": "code",
   "execution_count": 133,
   "id": "23692723",
   "metadata": {},
   "outputs": [
    {
     "data": {
      "application/vnd.plotly.v1+json": {
       "config": {
        "plotlyServerURL": "https://plot.ly"
       },
       "data": [
        {
         "hovertemplate": "<b>%{hovertext}</b><br><br>Total Supply (kilo-tons)=%{x}<br>Total Demand (kilo-tons)=%{y}<extra></extra>",
         "hovertext": {
          "bdata": "AAAAAAAAAAAAAAAAAADwPwAAAAAAAABAAAAAAAAACEAAAAAAAAAQQAAAAAAAABRAAAAAAAAAGEAAAAAAAAAcQAAAAAAAACBAAAAAAAAAIkAAAAAAAAAkQAAAAAAAACZAAAAAAAAAKEAAAAAAAAAqQAAAAAAAACxAAAAAAAAALkAAAAAAAAAwQAAAAAAAADFAAAAAAAAAMkAAAAAAAAAzQAAAAAAAADRAAAAAAAAANUAAAAAAAAA2QAAAAAAAADdAAAAAAAAAOEAAAAAAAAA5QAAAAAAAADpAAAAAAAAAO0AAAAAAAAA8QAAAAAAAAD1AAAAAAAAAPkAAAAAAAAA/QAAAAAAAAEBAAAAAAACAQEAAAAAAAABBQAAAAAAAgEFAAAAAAAAAQkAAAAAAAIBCQAAAAAAAAENAAAAAAACAQ0AAAAAAAABEQAAAAAAAgERAAAAAAAAARUAAAAAAAIBFQAAAAAAAAEZAAAAAAACARkAAAAAAAABHQAAAAAAAgEdAAAAAAAAASEAAAAAAAIBIQAAAAAAAAElAAAAAAACASUAAAAAAAABKQAAAAAAAgEpAAAAAAAAAS0AAAAAAAIBLQAAAAAAAAExAAAAAAACATEAAAAAAAABNQAAAAAAAgE1AAAAAAAAATkAAAAAAAIBOQAAAAAAAAE9AAAAAAACAT0AAAAAAAABQQAAAAAAAQFBAAAAAAACAUEAAAAAAAMBQQAAAAAAAAFFAAAAAAABAUUAAAAAAAIBRQAAAAAAAwFFAAAAAAAAAUkAAAAAAAEBSQAAAAAAAgFJAAAAAAADAUkAAAAAAAABTQAAAAAAAQFNAAAAAAACAU0AAAAAAAMBTQAAAAAAAAFRAAAAAAABAVEAAAAAAAIBUQAAAAAAAwFRAAAAAAAAAVUAAAAAAAEBVQAAAAAAAgFVAAAAAAADAVUAAAAAAAABWQAAAAAAAQFZAAAAAAACAVkAAAAAAAMBWQAAAAAAAAFdAAAAAAABAV0AAAAAAAIBXQAAAAAAAwFdAAAAAAAAAWEAAAAAAAEBYQAAAAAAAgFhAAAAAAADAWEAAAAAAAABZQAAAAAAAQFlAAAAAAACAWUAAAAAAAMBZQAAAAAAAAFpAAAAAAABAWkAAAAAAAIBaQAAAAAAAwFpAAAAAAAAAW0AAAAAAAEBbQAAAAAAAgFtAAAAAAADAW0AAAAAAAABcQAAAAAAAQFxAAAAAAACAXEAAAAAAAMBcQAAAAAAAAF1AAAAAAABAXUAAAAAAAIBdQAAAAAAAwF1AAAAAAAAAXkAAAAAAAEBeQAAAAAAAgF5AAAAAAADAXkAAAAAAAABfQAAAAAAAQF9AAAAAAACAX0AAAAAAAMBfQAAAAAAAAGBAAAAAAAAgYEAAAAAAAEBgQAAAAAAAYGBAAAAAAACAYEAAAAAAAKBgQAAAAAAAwGBAAAAAAADgYEAAAAAAAABhQAAAAAAAIGFAAAAAAABAYUA=",
          "dtype": "f8"
         },
         "legendgroup": "",
         "marker": {
          "color": "#636efa",
          "symbol": "circle"
         },
         "mode": "markers",
         "name": "",
         "orientation": "v",
         "showlegend": false,
         "type": "scatter",
         "x": {
          "bdata": "e7FW3XZtNkAPXu/WbN4LQK2DxwEY4/c/Vq9U/jOU4D9Wr1T+M5TgP4zE16KQBTBAK3WOYjiB9D8rdY5iOIH0PwAAAAAAAAAAhGy1KaK2OEB1H5Afm9E/QMI3+Bk0WhpApAokaKH5QkDU2ZL2B+AqQCFS9/s+BlRA0cnRe7D9U0CYtX7WwPczQNoy6PCPqyNApc4oT5HJVUBTlMhnBYtXQJI/3hQyZCFA8US5V8wOS0BlJgylEtXmP3j9OV2iWVVATXfXmvmiP0BZcUI8JThgQCpwqyftdTFANau5LnrIXkCGcB4KHgpfQGwNt5j/+jdAXZTrVSs5MEB9gOBmBglCQKDuL4yG7lRAAoIQeTTc1z8i7gYwCUoeQOTcPACO40FARhlCCLsjVkDuz8p3HM5VQH6SSAt6JgdAQffiXcLZU0DbhPdAXcseQGvSHN3UQFRA2z490lgEUkAuKuIEmI5cQA98duIOLCNAcObirP7/H0CxkJS3DjQhQC4q4gSYjlxAJVSGz7nEXEADQuYPQztdQFx3wU3p+E1Aon5+i0uRU0AxE0njy8VEQAZ2B/FhoDZA4B733pdMWUDy3CZo0VhLQGj26O3io1NAgBCWWIGEOkAOsJ5/r8w3QF/dH3AkS1pAsgFJ9sJXH0DVMV1pUhRVQFpsTE5pUlhAbPhXnWRqWUAsPTuoww9DQLiNcghBDFdALScDgugOJkAcpJW19A9EQB/K+Lj2oiFAhoLuFQfsM0CdiePzdOFUQOHmYR9/E0hAKQkay0p2IUC3RVON1M42QElpQj477lhAFH2NcegxGUDxK5auyCpCQNgf9rY8W88/idr2rVzOUEDglPILO2gvQBCDopunKUFAs4AvnBYDUkAUrytMPgtPQJDdVV7pulNAnkXv5QBFVECg7i+Mhu5UQOMf5WuD0FNAXgpIw/MlQ0AiJ5BvGswHQM1C0WP3j0BAERVAC0sXQECM7GnWkWngP27SeGGGLkxAy4TQKvG4UUAHN54/kCxVQFAqcXO3/0ZArh2t02rABECMXZXciV0+QFpvuQoEPCRAgSXwTISOX0CxTi89qKwpQIKbAniWKiVAgJsCeJYqJUCSLiIvqqBXQDe5vEjGETJAsPeb9SCXQ0A0AqhKfUwZQNMFOPqnGVBAmEGYNYekRUD8cNO4L0UxQJqYZ0FaVUlA+lLNP3YvWEDoXu3WPG9YQLpjCQSF2lVAM3eu00znVUA62+QIO5lbQBwoXXFn4llA8R1FweHzWUAuyAGFoWRcQL+nspRFqzdAkfFpAQ4xLUDkMQeyMOgQQOQxB7Iw6BBAkPFpAQ4xLUDf9zKbpdUnQCt1jmI4gfQ/wlsLA95EEECmahp49+X7P/oIJv8kgz1AXSOu+9qqNkD6CCb/JIM9QIgvFCVqqQ5AHmyVAJz7QkDZsxgiJtoyQFi45b7dHwlA/r4MsEzMRUAGWQF6FygyQC+DG9cnQCBA1Y6c4+Q5OkA=",
          "dtype": "f8"
         },
         "xaxis": "x",
         "y": {
          "bdata": "0iyuk9PjYEALs39d5Z1QQKBGtv3TvjBAgZVv6EhwK0CBlW/oSHArQOIWd1n2F1JAH3xbnPRtUUDMlvc3RyNRQEb4A0lfHVFAJPWKP5dtUkCAVQhuzuxUQNAaUgrVXU1AP4E0M0F1XUDgmk9HlDBiQA1x7CFGG3pAOBJHtCVNeUDH08s0225oQHbKziTqJWFA/RGuhg5+ekDgSrlnDRZ4QMNwTf9oMFpACm0bwcRqZ0DgvGOcUzVDQJALFrphHXtAlCK8GJH2XUDYYtVSCwmCQJao5U37A2RAqR/VwNIsgkCOuXcOBl2BQCIUR3XezldAl39OgspgY0AN18XUkmdkQF0KNmiYE0VAZWPSBytlQ0B4MkLxbwZRQPs29vz9G1FA4Ehy+FkndkBCZKBePHV5QLoUdlGD1UxACoweWC8bc0DXrfnFxMRQQAAcxIVKEHpA0Fgxt2wtdkArbAK0j6V7QCUNsM/Z8VtAi098fQPjVUC6eJdS9yhgQCtsArSPpXtAR73XMVDQgUAsrBtpdPWBQIOJdF3c7HFAerhl+gW1dEC/rGxxGipyQD8FFSRSe2NAYnPdoumFfEC7Yy8Z1uNAQN1R4Clnj3dAqV6Y/U4QbUADYj5re0BlQJdN1vmlE4FAdtPO7KzGUkAKOhy9wN13QEgA/uUhiHZAoGCzB+ple0CPfYbbGQlaQO+pJVF0w3hA2PwbIbDQYED454Ou7uJqQAZJHN4AB1pAKV8jJzS0ZEBmfFv/SA1NQDYChba0AkBAy6S21KkzWUD5nOPNLHViQMYh9lYbnHZA/Bsz82xkU0AoRtnEYqFkQI2n9cIVAkZA+WrBxivDQkA5GKR1nkFWQNhdCKHMjVZAa5uuNFmjdUDI7+C6TaZBQNmWo39v8nhACF5pI3mgUEAUP6MYxKNEQKonrJkRE3lAR5g1hQDfW0CxaTAbTHIlQNI0xL8l7VxAMfjN2Se7aUDG0RdRnldMQKnW8bVREkFAoghQGPIldUASjUdkqpd1QEo4NMJfaj1APaFuLNHaQEDDH2vhZXxdQA7mtBWEHGFAUG43QTE4gkDPshp1avdiQIgkSlbKzGBAj4YmYQW4X0BaqcwOEK95QJtwLDM0PGdAyNxb3Ux2b0Ayz5lbcTZQQKInYzXXOnRAhX7aHfd1ckBohQKNro5jQD5NJ+JCTHNAmOCrIUO6ekAjf8LdjX16QD+chFR9AXxAe8UmzxpPfEDDZaWm2pl/QNeyfwvvNnxAs+TcyIQkfECWve25dwuBQIT11g1NxldAUxC/8VRqUkA7SvtwG3FBQDtK+3AbcUFAXdxYJMS2UkCSo4RxqR9OQMyW9zdHI1FAkZ0qs2trUUBvkRB4nT5TQGKBJj4GU1VAr1Hce+GUUkBigSY+BlNVQKdjQb8r60ZAwQtxRZhrW0CptYguA5VbQHkZm6hQXCZA8dQx8Kl4XkAzxNUniBFXQOwXGlI1AWBA6JSBil7MUkA=",
          "dtype": "f8"
         },
         "yaxis": "y"
        }
       ],
       "layout": {
        "height": 450,
        "legend": {
         "tracegroupgap": 0
        },
        "template": {
         "data": {
          "bar": [
           {
            "error_x": {
             "color": "#2a3f5f"
            },
            "error_y": {
             "color": "#2a3f5f"
            },
            "marker": {
             "line": {
              "color": "white",
              "width": 0.5
             },
             "pattern": {
              "fillmode": "overlay",
              "size": 10,
              "solidity": 0.2
             }
            },
            "type": "bar"
           }
          ],
          "barpolar": [
           {
            "marker": {
             "line": {
              "color": "white",
              "width": 0.5
             },
             "pattern": {
              "fillmode": "overlay",
              "size": 10,
              "solidity": 0.2
             }
            },
            "type": "barpolar"
           }
          ],
          "carpet": [
           {
            "aaxis": {
             "endlinecolor": "#2a3f5f",
             "gridcolor": "#C8D4E3",
             "linecolor": "#C8D4E3",
             "minorgridcolor": "#C8D4E3",
             "startlinecolor": "#2a3f5f"
            },
            "baxis": {
             "endlinecolor": "#2a3f5f",
             "gridcolor": "#C8D4E3",
             "linecolor": "#C8D4E3",
             "minorgridcolor": "#C8D4E3",
             "startlinecolor": "#2a3f5f"
            },
            "type": "carpet"
           }
          ],
          "choropleth": [
           {
            "colorbar": {
             "outlinewidth": 0,
             "ticks": ""
            },
            "type": "choropleth"
           }
          ],
          "contour": [
           {
            "colorbar": {
             "outlinewidth": 0,
             "ticks": ""
            },
            "colorscale": [
             [
              0,
              "#0d0887"
             ],
             [
              0.1111111111111111,
              "#46039f"
             ],
             [
              0.2222222222222222,
              "#7201a8"
             ],
             [
              0.3333333333333333,
              "#9c179e"
             ],
             [
              0.4444444444444444,
              "#bd3786"
             ],
             [
              0.5555555555555556,
              "#d8576b"
             ],
             [
              0.6666666666666666,
              "#ed7953"
             ],
             [
              0.7777777777777778,
              "#fb9f3a"
             ],
             [
              0.8888888888888888,
              "#fdca26"
             ],
             [
              1,
              "#f0f921"
             ]
            ],
            "type": "contour"
           }
          ],
          "contourcarpet": [
           {
            "colorbar": {
             "outlinewidth": 0,
             "ticks": ""
            },
            "type": "contourcarpet"
           }
          ],
          "heatmap": [
           {
            "colorbar": {
             "outlinewidth": 0,
             "ticks": ""
            },
            "colorscale": [
             [
              0,
              "#0d0887"
             ],
             [
              0.1111111111111111,
              "#46039f"
             ],
             [
              0.2222222222222222,
              "#7201a8"
             ],
             [
              0.3333333333333333,
              "#9c179e"
             ],
             [
              0.4444444444444444,
              "#bd3786"
             ],
             [
              0.5555555555555556,
              "#d8576b"
             ],
             [
              0.6666666666666666,
              "#ed7953"
             ],
             [
              0.7777777777777778,
              "#fb9f3a"
             ],
             [
              0.8888888888888888,
              "#fdca26"
             ],
             [
              1,
              "#f0f921"
             ]
            ],
            "type": "heatmap"
           }
          ],
          "histogram": [
           {
            "marker": {
             "pattern": {
              "fillmode": "overlay",
              "size": 10,
              "solidity": 0.2
             }
            },
            "type": "histogram"
           }
          ],
          "histogram2d": [
           {
            "colorbar": {
             "outlinewidth": 0,
             "ticks": ""
            },
            "colorscale": [
             [
              0,
              "#0d0887"
             ],
             [
              0.1111111111111111,
              "#46039f"
             ],
             [
              0.2222222222222222,
              "#7201a8"
             ],
             [
              0.3333333333333333,
              "#9c179e"
             ],
             [
              0.4444444444444444,
              "#bd3786"
             ],
             [
              0.5555555555555556,
              "#d8576b"
             ],
             [
              0.6666666666666666,
              "#ed7953"
             ],
             [
              0.7777777777777778,
              "#fb9f3a"
             ],
             [
              0.8888888888888888,
              "#fdca26"
             ],
             [
              1,
              "#f0f921"
             ]
            ],
            "type": "histogram2d"
           }
          ],
          "histogram2dcontour": [
           {
            "colorbar": {
             "outlinewidth": 0,
             "ticks": ""
            },
            "colorscale": [
             [
              0,
              "#0d0887"
             ],
             [
              0.1111111111111111,
              "#46039f"
             ],
             [
              0.2222222222222222,
              "#7201a8"
             ],
             [
              0.3333333333333333,
              "#9c179e"
             ],
             [
              0.4444444444444444,
              "#bd3786"
             ],
             [
              0.5555555555555556,
              "#d8576b"
             ],
             [
              0.6666666666666666,
              "#ed7953"
             ],
             [
              0.7777777777777778,
              "#fb9f3a"
             ],
             [
              0.8888888888888888,
              "#fdca26"
             ],
             [
              1,
              "#f0f921"
             ]
            ],
            "type": "histogram2dcontour"
           }
          ],
          "mesh3d": [
           {
            "colorbar": {
             "outlinewidth": 0,
             "ticks": ""
            },
            "type": "mesh3d"
           }
          ],
          "parcoords": [
           {
            "line": {
             "colorbar": {
              "outlinewidth": 0,
              "ticks": ""
             }
            },
            "type": "parcoords"
           }
          ],
          "pie": [
           {
            "automargin": true,
            "type": "pie"
           }
          ],
          "scatter": [
           {
            "fillpattern": {
             "fillmode": "overlay",
             "size": 10,
             "solidity": 0.2
            },
            "type": "scatter"
           }
          ],
          "scatter3d": [
           {
            "line": {
             "colorbar": {
              "outlinewidth": 0,
              "ticks": ""
             }
            },
            "marker": {
             "colorbar": {
              "outlinewidth": 0,
              "ticks": ""
             }
            },
            "type": "scatter3d"
           }
          ],
          "scattercarpet": [
           {
            "marker": {
             "colorbar": {
              "outlinewidth": 0,
              "ticks": ""
             }
            },
            "type": "scattercarpet"
           }
          ],
          "scattergeo": [
           {
            "marker": {
             "colorbar": {
              "outlinewidth": 0,
              "ticks": ""
             }
            },
            "type": "scattergeo"
           }
          ],
          "scattergl": [
           {
            "marker": {
             "colorbar": {
              "outlinewidth": 0,
              "ticks": ""
             }
            },
            "type": "scattergl"
           }
          ],
          "scattermap": [
           {
            "marker": {
             "colorbar": {
              "outlinewidth": 0,
              "ticks": ""
             }
            },
            "type": "scattermap"
           }
          ],
          "scattermapbox": [
           {
            "marker": {
             "colorbar": {
              "outlinewidth": 0,
              "ticks": ""
             }
            },
            "type": "scattermapbox"
           }
          ],
          "scatterpolar": [
           {
            "marker": {
             "colorbar": {
              "outlinewidth": 0,
              "ticks": ""
             }
            },
            "type": "scatterpolar"
           }
          ],
          "scatterpolargl": [
           {
            "marker": {
             "colorbar": {
              "outlinewidth": 0,
              "ticks": ""
             }
            },
            "type": "scatterpolargl"
           }
          ],
          "scatterternary": [
           {
            "marker": {
             "colorbar": {
              "outlinewidth": 0,
              "ticks": ""
             }
            },
            "type": "scatterternary"
           }
          ],
          "surface": [
           {
            "colorbar": {
             "outlinewidth": 0,
             "ticks": ""
            },
            "colorscale": [
             [
              0,
              "#0d0887"
             ],
             [
              0.1111111111111111,
              "#46039f"
             ],
             [
              0.2222222222222222,
              "#7201a8"
             ],
             [
              0.3333333333333333,
              "#9c179e"
             ],
             [
              0.4444444444444444,
              "#bd3786"
             ],
             [
              0.5555555555555556,
              "#d8576b"
             ],
             [
              0.6666666666666666,
              "#ed7953"
             ],
             [
              0.7777777777777778,
              "#fb9f3a"
             ],
             [
              0.8888888888888888,
              "#fdca26"
             ],
             [
              1,
              "#f0f921"
             ]
            ],
            "type": "surface"
           }
          ],
          "table": [
           {
            "cells": {
             "fill": {
              "color": "#EBF0F8"
             },
             "line": {
              "color": "white"
             }
            },
            "header": {
             "fill": {
              "color": "#C8D4E3"
             },
             "line": {
              "color": "white"
             }
            },
            "type": "table"
           }
          ]
         },
         "layout": {
          "annotationdefaults": {
           "arrowcolor": "#2a3f5f",
           "arrowhead": 0,
           "arrowwidth": 1
          },
          "autotypenumbers": "strict",
          "coloraxis": {
           "colorbar": {
            "outlinewidth": 0,
            "ticks": ""
           }
          },
          "colorscale": {
           "diverging": [
            [
             0,
             "#8e0152"
            ],
            [
             0.1,
             "#c51b7d"
            ],
            [
             0.2,
             "#de77ae"
            ],
            [
             0.3,
             "#f1b6da"
            ],
            [
             0.4,
             "#fde0ef"
            ],
            [
             0.5,
             "#f7f7f7"
            ],
            [
             0.6,
             "#e6f5d0"
            ],
            [
             0.7,
             "#b8e186"
            ],
            [
             0.8,
             "#7fbc41"
            ],
            [
             0.9,
             "#4d9221"
            ],
            [
             1,
             "#276419"
            ]
           ],
           "sequential": [
            [
             0,
             "#0d0887"
            ],
            [
             0.1111111111111111,
             "#46039f"
            ],
            [
             0.2222222222222222,
             "#7201a8"
            ],
            [
             0.3333333333333333,
             "#9c179e"
            ],
            [
             0.4444444444444444,
             "#bd3786"
            ],
            [
             0.5555555555555556,
             "#d8576b"
            ],
            [
             0.6666666666666666,
             "#ed7953"
            ],
            [
             0.7777777777777778,
             "#fb9f3a"
            ],
            [
             0.8888888888888888,
             "#fdca26"
            ],
            [
             1,
             "#f0f921"
            ]
           ],
           "sequentialminus": [
            [
             0,
             "#0d0887"
            ],
            [
             0.1111111111111111,
             "#46039f"
            ],
            [
             0.2222222222222222,
             "#7201a8"
            ],
            [
             0.3333333333333333,
             "#9c179e"
            ],
            [
             0.4444444444444444,
             "#bd3786"
            ],
            [
             0.5555555555555556,
             "#d8576b"
            ],
            [
             0.6666666666666666,
             "#ed7953"
            ],
            [
             0.7777777777777778,
             "#fb9f3a"
            ],
            [
             0.8888888888888888,
             "#fdca26"
            ],
            [
             1,
             "#f0f921"
            ]
           ]
          },
          "colorway": [
           "#636efa",
           "#EF553B",
           "#00cc96",
           "#ab63fa",
           "#FFA15A",
           "#19d3f3",
           "#FF6692",
           "#B6E880",
           "#FF97FF",
           "#FECB52"
          ],
          "font": {
           "color": "#2a3f5f"
          },
          "geo": {
           "bgcolor": "white",
           "lakecolor": "white",
           "landcolor": "white",
           "showlakes": true,
           "showland": true,
           "subunitcolor": "#C8D4E3"
          },
          "hoverlabel": {
           "align": "left"
          },
          "hovermode": "closest",
          "mapbox": {
           "style": "light"
          },
          "paper_bgcolor": "white",
          "plot_bgcolor": "white",
          "polar": {
           "angularaxis": {
            "gridcolor": "#EBF0F8",
            "linecolor": "#EBF0F8",
            "ticks": ""
           },
           "bgcolor": "white",
           "radialaxis": {
            "gridcolor": "#EBF0F8",
            "linecolor": "#EBF0F8",
            "ticks": ""
           }
          },
          "scene": {
           "xaxis": {
            "backgroundcolor": "white",
            "gridcolor": "#DFE8F3",
            "gridwidth": 2,
            "linecolor": "#EBF0F8",
            "showbackground": true,
            "ticks": "",
            "zerolinecolor": "#EBF0F8"
           },
           "yaxis": {
            "backgroundcolor": "white",
            "gridcolor": "#DFE8F3",
            "gridwidth": 2,
            "linecolor": "#EBF0F8",
            "showbackground": true,
            "ticks": "",
            "zerolinecolor": "#EBF0F8"
           },
           "zaxis": {
            "backgroundcolor": "white",
            "gridcolor": "#DFE8F3",
            "gridwidth": 2,
            "linecolor": "#EBF0F8",
            "showbackground": true,
            "ticks": "",
            "zerolinecolor": "#EBF0F8"
           }
          },
          "shapedefaults": {
           "line": {
            "color": "#2a3f5f"
           }
          },
          "ternary": {
           "aaxis": {
            "gridcolor": "#DFE8F3",
            "linecolor": "#A2B1C6",
            "ticks": ""
           },
           "baxis": {
            "gridcolor": "#DFE8F3",
            "linecolor": "#A2B1C6",
            "ticks": ""
           },
           "bgcolor": "white",
           "caxis": {
            "gridcolor": "#DFE8F3",
            "linecolor": "#A2B1C6",
            "ticks": ""
           }
          },
          "title": {
           "x": 0.05
          },
          "xaxis": {
           "automargin": true,
           "gridcolor": "#EBF0F8",
           "linecolor": "#EBF0F8",
           "ticks": "",
           "title": {
            "standoff": 15
           },
           "zerolinecolor": "#EBF0F8",
           "zerolinewidth": 2
          },
          "yaxis": {
           "automargin": true,
           "gridcolor": "#EBF0F8",
           "linecolor": "#EBF0F8",
           "ticks": "",
           "title": {
            "standoff": 15
           },
           "zerolinecolor": "#EBF0F8",
           "zerolinewidth": 2
          }
         }
        },
        "title": {
         "text": "Supply vs. Demand for All Hubs (within 10 km)"
        },
        "width": 650,
        "xaxis": {
         "anchor": "y",
         "domain": [
          0,
          1
         ],
         "title": {
          "text": "Total Supply (kilo-tons)"
         }
        },
        "yaxis": {
         "anchor": "x",
         "domain": [
          0,
          1
         ],
         "title": {
          "text": "Total Demand (kilo-tons)"
         }
        }
       }
      }
     },
     "metadata": {},
     "output_type": "display_data"
    }
   ],
   "source": [
    "import plotly.express as px\n",
    "\n",
    "fig = px.scatter(\n",
    "    hub_summary,\n",
    "    x=\"total_supply_kilotons\",\n",
    "    y=\"total_demand_kilotons\",\n",
    "    hover_name=\"hub_id\",\n",
    "    labels={\n",
    "        \"total_supply_kilotons\": \"Total Supply (kilo-tons)\",\n",
    "        \"total_demand_kilotons\": \"Total Demand (kilo-tons)\"\n",
    "    },\n",
    "    title=f\"Supply vs. Demand for All Hubs (within {max_travel_distance/1000:.0f} km)\"\n",
    ")\n",
    "\n",
    "fig.update_layout(\n",
    "    template=\"plotly_white\",\n",
    "    width=650,\n",
    "    height=450\n",
    ")\n",
    "\n",
    "fig.show()\n"
   ]
  },
  {
   "cell_type": "markdown",
   "id": "84fc79c0",
   "metadata": {},
   "source": [
    "🧠 **Interpretation:**\n",
    "- Each dot represents a hub.\n",
    "- Hubs further **to the right** have more material *supply* nearby.\n",
    "- Hubs higher **up** have more *demand* nearby.\n",
    "\n",
    "**Think about:**\n",
    "- Which hubs seem to have both high supply and high demand?\n",
    "- Which ones might be too far from either materials or projects?\n"
   ]
  },
  {
   "cell_type": "code",
   "execution_count": 134,
   "id": "da4f1f69",
   "metadata": {},
   "outputs": [
    {
     "data": {
      "text/html": [
       "<div>\n",
       "<style scoped>\n",
       "    .dataframe tbody tr th:only-of-type {\n",
       "        vertical-align: middle;\n",
       "    }\n",
       "\n",
       "    .dataframe tbody tr th {\n",
       "        vertical-align: top;\n",
       "    }\n",
       "\n",
       "    .dataframe thead th {\n",
       "        text-align: right;\n",
       "    }\n",
       "</style>\n",
       "<table border=\"1\" class=\"dataframe\">\n",
       "  <thead>\n",
       "    <tr style=\"text-align: right;\">\n",
       "      <th></th>\n",
       "      <th>hub_id</th>\n",
       "      <th>total_supply_kilotons</th>\n",
       "      <th>total_demand_kilotons</th>\n",
       "      <th>category</th>\n",
       "    </tr>\n",
       "  </thead>\n",
       "  <tbody>\n",
       "    <tr>\n",
       "      <th>0</th>\n",
       "      <td>0</td>\n",
       "      <td>22.427595</td>\n",
       "      <td>135.119577</td>\n",
       "      <td>Low supply, high demand</td>\n",
       "    </tr>\n",
       "    <tr>\n",
       "      <th>1</th>\n",
       "      <td>1</td>\n",
       "      <td>3.483606</td>\n",
       "      <td>66.467124</td>\n",
       "      <td>Low supply, low demand</td>\n",
       "    </tr>\n",
       "    <tr>\n",
       "      <th>2</th>\n",
       "      <td>2</td>\n",
       "      <td>1.492943</td>\n",
       "      <td>16.745422</td>\n",
       "      <td>Low supply, low demand</td>\n",
       "    </tr>\n",
       "    <tr>\n",
       "      <th>3</th>\n",
       "      <td>3</td>\n",
       "      <td>0.518091</td>\n",
       "      <td>13.719306</td>\n",
       "      <td>Low supply, low demand</td>\n",
       "    </tr>\n",
       "    <tr>\n",
       "      <th>4</th>\n",
       "      <td>4</td>\n",
       "      <td>0.518091</td>\n",
       "      <td>13.719306</td>\n",
       "      <td>Low supply, low demand</td>\n",
       "    </tr>\n",
       "  </tbody>\n",
       "</table>\n",
       "</div>"
      ],
      "text/plain": [
       "   hub_id  total_supply_kilotons  total_demand_kilotons  \\\n",
       "0       0              22.427595             135.119577   \n",
       "1       1               3.483606              66.467124   \n",
       "2       2               1.492943              16.745422   \n",
       "3       3               0.518091              13.719306   \n",
       "4       4               0.518091              13.719306   \n",
       "\n",
       "                  category  \n",
       "0  Low supply, high demand  \n",
       "1   Low supply, low demand  \n",
       "2   Low supply, low demand  \n",
       "3   Low supply, low demand  \n",
       "4   Low supply, low demand  "
      ]
     },
     "execution_count": 134,
     "metadata": {},
     "output_type": "execute_result"
    }
   ],
   "source": [
    "# Calculate medians to use as thresholds\n",
    "supply_median = hub_summary[\"total_supply_kilotons\"].median()\n",
    "demand_median = hub_summary[\"total_demand_kilotons\"].median()\n",
    "\n",
    "def classify_hub(row):\n",
    "    if row[\"total_supply_kilotons\"] >= supply_median and row[\"total_demand_kilotons\"] >= demand_median:\n",
    "        return \"High supply, high demand\"\n",
    "    elif row[\"total_supply_kilotons\"] >= supply_median:\n",
    "        return \"High supply, low demand\"\n",
    "    elif row[\"total_demand_kilotons\"] >= demand_median:\n",
    "        return \"Low supply, high demand\"\n",
    "    else:\n",
    "        return \"Low supply, low demand\"\n",
    "\n",
    "hub_summary[\"category\"] = hub_summary.apply(classify_hub, axis=1)\n",
    "hub_summary.head()\n"
   ]
  },
  {
   "cell_type": "code",
   "execution_count": 135,
   "id": "0d8b5561",
   "metadata": {},
   "outputs": [
    {
     "data": {
      "application/vnd.plotly.v1+json": {
       "config": {
        "plotlyServerURL": "https://plot.ly"
       },
       "data": [
        {
         "hovertemplate": "<b>%{hovertext}</b><br><br>Hub Type=Low supply, high demand<br>Total Supply (kilo-tons)=%{x}<br>Total Demand (kilo-tons)=%{y}<extra></extra>",
         "hovertext": {
          "bdata": "AAAAAAAAAAAAAAAAAAAqQAAAAAAAADBAAAAAAAAAMUAAAAAAAAA6QAAAAAAAAD5AAAAAAAAAR0AAAAAAAIBKQAAAAAAAgExAAAAAAAAATUAAAAAAAIBQQAAAAAAAQFFAAAAAAABAUkAAAAAAAIBYQAAAAAAAAFlAAAAAAABAWUAAAAAAAABaQAAAAAAAQFtA",
          "dtype": "f8"
         },
         "legendgroup": "Low supply, high demand",
         "marker": {
          "color": "#ff7f0e",
          "symbol": "circle"
         },
         "mode": "markers",
         "name": "Low supply, high demand",
         "orientation": "v",
         "showlegend": true,
         "type": "scatter",
         "x": {
          "bdata": "e7FW3XZtNkDU2ZL2B+AqQJi1ftbA9zNA2jLo8I+rI0AqcKsn7XUxQF2U61UrOTBAsZCUtw40IUAGdgfxYaA2QIAQlliBhDpADrCef6/MN0AtJwOC6A4mQIaC7hUH7DNAt0VTjdTONkBab7kKBDwkQLFOLz2orClAgpsCeJYqJUA3ubxIxhEyQPxw07gvRTFA",
          "dtype": "f8"
         },
         "xaxis": "x",
         "y": {
          "bdata": "0iyuk9PjYEDgmk9HlDBiQMfTyzTbbmhAdsrOJOolYUCWqOVN+wNkQJd/ToLKYGNAuniXUvcoYEA/BRUkUntjQKlemP1OEG1AA2I+a3tAZUDY/BshsNBgQClfIyc0tGRA+ZzjzSx1YkAO5rQVhBxhQM+yGnVq92JAiCRKVsrMYECbcCwzNDxnQGiFAo2ujmNA",
          "dtype": "f8"
         },
         "yaxis": "y"
        },
        {
         "hovertemplate": "<b>%{hovertext}</b><br><br>Hub Type=Low supply, low demand<br>Total Supply (kilo-tons)=%{x}<br>Total Demand (kilo-tons)=%{y}<extra></extra>",
         "hovertext": {
          "bdata": "AAAAAAAA8D8AAAAAAAAAQAAAAAAAAAhAAAAAAAAAEEAAAAAAAAAUQAAAAAAAABhAAAAAAAAAHEAAAAAAAAAgQAAAAAAAACJAAAAAAAAAJEAAAAAAAAAmQAAAAAAAADRAAAAAAAAANkAAAAAAAAA4QAAAAAAAAD1AAAAAAACAQEAAAAAAAABBQAAAAAAAAENAAAAAAAAAREAAAAAAAABGQAAAAAAAgEZAAAAAAAAATkAAAAAAAABRQAAAAAAAAFJAAAAAAADAUkAAAAAAAEBTQAAAAAAAwFNAAAAAAAAAVkAAAAAAAMBWQAAAAAAAAFhAAAAAAABAWEAAAAAAAIBZQAAAAAAAgFpAAAAAAADAXUAAAAAAAABeQAAAAAAAQF5AAAAAAACAXkAAAAAAAMBeQAAAAAAAAF9AAAAAAABAX0AAAAAAAIBfQAAAAAAAwF9AAAAAAAAAYEAAAAAAACBgQAAAAAAAQGBAAAAAAABgYEAAAAAAAKBgQAAAAAAAwGBAAAAAAAAAYUAAAAAAACBhQAAAAAAAQGFA",
          "dtype": "f8"
         },
         "legendgroup": "Low supply, low demand",
         "marker": {
          "color": "#d62728",
          "symbol": "circle"
         },
         "mode": "markers",
         "name": "Low supply, low demand",
         "orientation": "v",
         "showlegend": true,
         "type": "scatter",
         "x": {
          "bdata": "D17v1mzeC0Ctg8cBGOP3P1avVP4zlOA/Vq9U/jOU4D+MxNeikAUwQCt1jmI4gfQ/K3WOYjiB9D8AAAAAAAAAAIRstSmitjhAdR+QH5vRP0DCN/gZNFoaQJI/3hQyZCFAZSYMpRLV5j9Nd9ea+aI/QGwNt5j/+jdAAoIQeTTc1z8i7gYwCUoeQH6SSAt6JgdA24T3QF3LHkAPfHbiDiwjQHDm4qz+/x9AsgFJ9sJXH0Afyvi49qIhQCkJGstKdiFAFH2NcegxGUDYH/a2PFvPP+CU8gs7aC9AIieQbxrMB0CM7GnWkWngP64drdNqwARAjF2V3IldPkCAmwJ4liolQDQCqEp9TBlAv6eylEWrN0CR8WkBDjEtQOQxB7Iw6BBA5DEHsjDoEECQ8WkBDjEtQN/3Mpul1SdAK3WOYjiB9D/CWwsD3kQQQKZqGnj35fs/+ggm/ySDPUBdI6772qo2QPoIJv8kgz1AiC8UJWqpDkDZsxgiJtoyQFi45b7dHwlABlkBehcoMkAvgxvXJ0AgQNWOnOPkOTpA",
          "dtype": "f8"
         },
         "xaxis": "x",
         "y": {
          "bdata": "C7N/XeWdUECgRrb9074wQIGVb+hIcCtAgZVv6EhwK0DiFndZ9hdSQB98W5z0bVFAzJb3N0cjUUBG+ANJXx1RQCT1ij+XbVJAgFUIbs7sVEDQGlIK1V1NQMNwTf9oMFpA4LxjnFM1Q0CUIrwYkfZdQCIUR3XezldAZWPSBytlQ0B4MkLxbwZRQLoUdlGD1UxA1635xcTEUEAlDbDP2fFbQItPfH0D41VAdtPO7KzGUkAGSRzeAAdaQMukttSpM1lA/Bsz82xkU0CNp/XCFQJGQDkYpHWeQVZAsWkwG0xyJUDG0RdRnldMQD2hbizR2kBAwx9r4WV8XUCPhiZhBbhfQDLPmVtxNlBAhPXWDU3GV0BTEL/xVGpSQDtK+3AbcUFAO0r7cBtxQUBd3FgkxLZSQJKjhHGpH05AzJb3N0cjUUCRnSqza2tRQG+REHidPlNAYoEmPgZTVUCvUdx74ZRSQGKBJj4GU1VAp2NBvyvrRkCptYguA5VbQHkZm6hQXCZAM8TVJ4gRV0DsFxpSNQFgQOiUgYpezFJA",
          "dtype": "f8"
         },
         "yaxis": "y"
        },
        {
         "hovertemplate": "<b>%{hovertext}</b><br><br>Hub Type=High supply, low demand<br>Total Supply (kilo-tons)=%{x}<br>Total Demand (kilo-tons)=%{y}<extra></extra>",
         "hovertext": {
          "bdata": "AAAAAAAAKEAAAAAAAABAQAAAAAAAgEFAAAAAAACAS0AAAAAAAABQQAAAAAAAgFFAAAAAAADAUUAAAAAAAIBTQAAAAAAAAFRAAAAAAACAVEAAAAAAAABVQAAAAAAAQFVAAAAAAADAVUAAAAAAAEBWQAAAAAAAAFdAAAAAAADAV0AAAAAAAIBgQAAAAAAA4GBA",
          "dtype": "f8"
         },
         "legendgroup": "High supply, low demand",
         "marker": {
          "color": "#1f77b4",
          "symbol": "circle"
         },
         "mode": "markers",
         "name": "High supply, low demand",
         "orientation": "v",
         "showlegend": true,
         "type": "scatter",
         "x": {
          "bdata": "pAokaKH5QkCg7i+Mhu5UQOTcPACO40FA8twmaNFYS0AsPTuoww9DQJ2J4/N04VRA4eZhH38TSECJ2vatXM5QQBCDopunKUFAFK8rTD4LT0CeRe/lAEVUQKDuL4yG7lRAXgpIw/MlQ0DNQtFj949AQG7SeGGGLkxAUCpxc7f/RkAebJUAnPtCQP6+DLBMzEVA",
          "dtype": "f8"
         },
         "xaxis": "x",
         "y": {
          "bdata": "P4E0M0F1XUBdCjZomBNFQPs29vz9G1FAu2MvGdbjQECPfYbbGQlaQGZ8W/9IDU1ANgKFtrQCQED5asHGK8NCQNhdCKHMjVZAyO/guk2mQUAIXmkjeaBQQBQ/oxjEo0RAR5g1hQDfW0DSNMS/Je1cQKnW8bVREkFASjg0wl9qPUDBC3FFmGtbQPHUMfCpeF5A",
          "dtype": "f8"
         },
         "yaxis": "y"
        },
        {
         "hovertemplate": "<b>%{hovertext}</b><br><br>Hub Type=High supply, high demand<br>Total Supply (kilo-tons)=%{x}<br>Total Demand (kilo-tons)=%{y}<extra></extra>",
         "hovertext": {
          "bdata": "AAAAAAAALEAAAAAAAAAuQAAAAAAAADJAAAAAAAAAM0AAAAAAAAA1QAAAAAAAADdAAAAAAAAAOUAAAAAAAAA7QAAAAAAAADxAAAAAAAAAP0AAAAAAAABCQAAAAAAAgEJAAAAAAACAQ0AAAAAAAIBEQAAAAAAAAEVAAAAAAACARUAAAAAAAIBHQAAAAAAAAEhAAAAAAACASEAAAAAAAABJQAAAAAAAgElAAAAAAAAASkAAAAAAAABLQAAAAAAAAExAAAAAAACATUAAAAAAAIBOQAAAAAAAAE9AAAAAAACAT0AAAAAAAEBQQAAAAAAAwFBAAAAAAACAUkAAAAAAAABTQAAAAAAAQFRAAAAAAADAVEAAAAAAAIBVQAAAAAAAgFZAAAAAAABAV0AAAAAAAIBXQAAAAAAAwFhAAAAAAADAWUAAAAAAAEBaQAAAAAAAwFpAAAAAAAAAW0AAAAAAAIBbQAAAAAAAwFtAAAAAAAAAXEAAAAAAAEBcQAAAAAAAgFxAAAAAAADAXEAAAAAAAABdQAAAAAAAQF1AAAAAAACAXUA=",
          "dtype": "f8"
         },
         "legendgroup": "High supply, high demand",
         "marker": {
          "color": "#2ca02c",
          "symbol": "circle"
         },
         "mode": "markers",
         "name": "High supply, high demand",
         "orientation": "v",
         "showlegend": true,
         "type": "scatter",
         "x": {
          "bdata": "IVL3+z4GVEDRydF7sP1TQKXOKE+RyVVAU5TIZwWLV0DxRLlXzA5LQHj9OV2iWVVAWXFCPCU4YEA1q7kuesheQIZwHgoeCl9AfYDgZgYJQkBGGUIIuyNWQO7PyncczlVAQffiXcLZU0Br0hzd1EBUQNs+PdJYBFJALiriBJiOXEAuKuIEmI5cQCVUhs+5xFxAA0LmD0M7XUBcd8FN6fhNQKJ+fotLkVNAMRNJ48vFREDgHvfel0xZQGj26O3io1NAX90fcCRLWkDVMV1pUhRVQFpsTE5pUlhAbPhXnWRqWUC4jXIIQQxXQByklbX0D0RASWlCPjvuWEDxK5auyCpCQLOAL5wWA1JAkN1VXum6U0DjH+Vrg9BTQBEVQAtLF0BAy4TQKvG4UUAHN54/kCxVQIEl8EyEjl9Aki4iL6qgV0Cw95v1IJdDQNMFOPqnGVBAmEGYNYekRUCamGdBWlVJQPpSzT92L1hA6F7t1jxvWEC6YwkEhdpVQDN3rtNM51VAOtvkCDuZW0AcKF1xZ+JZQPEdRcHh81lALsgBhaFkXEA=",
          "dtype": "f8"
         },
         "xaxis": "x",
         "y": {
          "bdata": "DXHsIUYbekA4Eke0JU15QP0RroYOfnpA4Eq5Zw0WeEAKbRvBxGpnQJALFrphHXtA2GLVUgsJgkCpH9XA0iyCQI65dw4GXYFADdfF1JJnZEDgSHL4WSd2QEJkoF48dXlACoweWC8bc0AAHMSFShB6QNBYMbdsLXZAK2wCtI+le0ArbAK0j6V7QEe91zFQ0IFALKwbaXT1gUCDiXRd3OxxQHq4ZfoFtXRAv6xscRoqckBic92i6YV8QN1R4Clnj3dAl03W+aUTgUAKOhy9wN13QEgA/uUhiHZAoGCzB+ple0DvqSVRdMN4QPjng67u4mpAxiH2VhucdkAoRtnEYqFkQGubrjRZo3VA2Zajf2/yeECqJ6yZERN5QDH4zdknu2lAoghQGPIldUASjUdkqpd1QFBuN0ExOIJAWqnMDhCveUDI3FvdTHZvQKInYzXXOnRAhX7aHfd1ckA+TSfiQkxzQJjgqyFDunpAI3/C3Y19ekA/nIRUfQF8QHvFJs8aT3xAw2WlptqZf0DXsn8L7zZ8QLPk3MiEJHxAlr3tuXcLgUA=",
          "dtype": "f8"
         },
         "yaxis": "y"
        }
       ],
       "layout": {
        "height": 450,
        "legend": {
         "title": {
          "text": "Hub Type"
         },
         "tracegroupgap": 0
        },
        "template": {
         "data": {
          "bar": [
           {
            "error_x": {
             "color": "#2a3f5f"
            },
            "error_y": {
             "color": "#2a3f5f"
            },
            "marker": {
             "line": {
              "color": "white",
              "width": 0.5
             },
             "pattern": {
              "fillmode": "overlay",
              "size": 10,
              "solidity": 0.2
             }
            },
            "type": "bar"
           }
          ],
          "barpolar": [
           {
            "marker": {
             "line": {
              "color": "white",
              "width": 0.5
             },
             "pattern": {
              "fillmode": "overlay",
              "size": 10,
              "solidity": 0.2
             }
            },
            "type": "barpolar"
           }
          ],
          "carpet": [
           {
            "aaxis": {
             "endlinecolor": "#2a3f5f",
             "gridcolor": "#C8D4E3",
             "linecolor": "#C8D4E3",
             "minorgridcolor": "#C8D4E3",
             "startlinecolor": "#2a3f5f"
            },
            "baxis": {
             "endlinecolor": "#2a3f5f",
             "gridcolor": "#C8D4E3",
             "linecolor": "#C8D4E3",
             "minorgridcolor": "#C8D4E3",
             "startlinecolor": "#2a3f5f"
            },
            "type": "carpet"
           }
          ],
          "choropleth": [
           {
            "colorbar": {
             "outlinewidth": 0,
             "ticks": ""
            },
            "type": "choropleth"
           }
          ],
          "contour": [
           {
            "colorbar": {
             "outlinewidth": 0,
             "ticks": ""
            },
            "colorscale": [
             [
              0,
              "#0d0887"
             ],
             [
              0.1111111111111111,
              "#46039f"
             ],
             [
              0.2222222222222222,
              "#7201a8"
             ],
             [
              0.3333333333333333,
              "#9c179e"
             ],
             [
              0.4444444444444444,
              "#bd3786"
             ],
             [
              0.5555555555555556,
              "#d8576b"
             ],
             [
              0.6666666666666666,
              "#ed7953"
             ],
             [
              0.7777777777777778,
              "#fb9f3a"
             ],
             [
              0.8888888888888888,
              "#fdca26"
             ],
             [
              1,
              "#f0f921"
             ]
            ],
            "type": "contour"
           }
          ],
          "contourcarpet": [
           {
            "colorbar": {
             "outlinewidth": 0,
             "ticks": ""
            },
            "type": "contourcarpet"
           }
          ],
          "heatmap": [
           {
            "colorbar": {
             "outlinewidth": 0,
             "ticks": ""
            },
            "colorscale": [
             [
              0,
              "#0d0887"
             ],
             [
              0.1111111111111111,
              "#46039f"
             ],
             [
              0.2222222222222222,
              "#7201a8"
             ],
             [
              0.3333333333333333,
              "#9c179e"
             ],
             [
              0.4444444444444444,
              "#bd3786"
             ],
             [
              0.5555555555555556,
              "#d8576b"
             ],
             [
              0.6666666666666666,
              "#ed7953"
             ],
             [
              0.7777777777777778,
              "#fb9f3a"
             ],
             [
              0.8888888888888888,
              "#fdca26"
             ],
             [
              1,
              "#f0f921"
             ]
            ],
            "type": "heatmap"
           }
          ],
          "histogram": [
           {
            "marker": {
             "pattern": {
              "fillmode": "overlay",
              "size": 10,
              "solidity": 0.2
             }
            },
            "type": "histogram"
           }
          ],
          "histogram2d": [
           {
            "colorbar": {
             "outlinewidth": 0,
             "ticks": ""
            },
            "colorscale": [
             [
              0,
              "#0d0887"
             ],
             [
              0.1111111111111111,
              "#46039f"
             ],
             [
              0.2222222222222222,
              "#7201a8"
             ],
             [
              0.3333333333333333,
              "#9c179e"
             ],
             [
              0.4444444444444444,
              "#bd3786"
             ],
             [
              0.5555555555555556,
              "#d8576b"
             ],
             [
              0.6666666666666666,
              "#ed7953"
             ],
             [
              0.7777777777777778,
              "#fb9f3a"
             ],
             [
              0.8888888888888888,
              "#fdca26"
             ],
             [
              1,
              "#f0f921"
             ]
            ],
            "type": "histogram2d"
           }
          ],
          "histogram2dcontour": [
           {
            "colorbar": {
             "outlinewidth": 0,
             "ticks": ""
            },
            "colorscale": [
             [
              0,
              "#0d0887"
             ],
             [
              0.1111111111111111,
              "#46039f"
             ],
             [
              0.2222222222222222,
              "#7201a8"
             ],
             [
              0.3333333333333333,
              "#9c179e"
             ],
             [
              0.4444444444444444,
              "#bd3786"
             ],
             [
              0.5555555555555556,
              "#d8576b"
             ],
             [
              0.6666666666666666,
              "#ed7953"
             ],
             [
              0.7777777777777778,
              "#fb9f3a"
             ],
             [
              0.8888888888888888,
              "#fdca26"
             ],
             [
              1,
              "#f0f921"
             ]
            ],
            "type": "histogram2dcontour"
           }
          ],
          "mesh3d": [
           {
            "colorbar": {
             "outlinewidth": 0,
             "ticks": ""
            },
            "type": "mesh3d"
           }
          ],
          "parcoords": [
           {
            "line": {
             "colorbar": {
              "outlinewidth": 0,
              "ticks": ""
             }
            },
            "type": "parcoords"
           }
          ],
          "pie": [
           {
            "automargin": true,
            "type": "pie"
           }
          ],
          "scatter": [
           {
            "fillpattern": {
             "fillmode": "overlay",
             "size": 10,
             "solidity": 0.2
            },
            "type": "scatter"
           }
          ],
          "scatter3d": [
           {
            "line": {
             "colorbar": {
              "outlinewidth": 0,
              "ticks": ""
             }
            },
            "marker": {
             "colorbar": {
              "outlinewidth": 0,
              "ticks": ""
             }
            },
            "type": "scatter3d"
           }
          ],
          "scattercarpet": [
           {
            "marker": {
             "colorbar": {
              "outlinewidth": 0,
              "ticks": ""
             }
            },
            "type": "scattercarpet"
           }
          ],
          "scattergeo": [
           {
            "marker": {
             "colorbar": {
              "outlinewidth": 0,
              "ticks": ""
             }
            },
            "type": "scattergeo"
           }
          ],
          "scattergl": [
           {
            "marker": {
             "colorbar": {
              "outlinewidth": 0,
              "ticks": ""
             }
            },
            "type": "scattergl"
           }
          ],
          "scattermap": [
           {
            "marker": {
             "colorbar": {
              "outlinewidth": 0,
              "ticks": ""
             }
            },
            "type": "scattermap"
           }
          ],
          "scattermapbox": [
           {
            "marker": {
             "colorbar": {
              "outlinewidth": 0,
              "ticks": ""
             }
            },
            "type": "scattermapbox"
           }
          ],
          "scatterpolar": [
           {
            "marker": {
             "colorbar": {
              "outlinewidth": 0,
              "ticks": ""
             }
            },
            "type": "scatterpolar"
           }
          ],
          "scatterpolargl": [
           {
            "marker": {
             "colorbar": {
              "outlinewidth": 0,
              "ticks": ""
             }
            },
            "type": "scatterpolargl"
           }
          ],
          "scatterternary": [
           {
            "marker": {
             "colorbar": {
              "outlinewidth": 0,
              "ticks": ""
             }
            },
            "type": "scatterternary"
           }
          ],
          "surface": [
           {
            "colorbar": {
             "outlinewidth": 0,
             "ticks": ""
            },
            "colorscale": [
             [
              0,
              "#0d0887"
             ],
             [
              0.1111111111111111,
              "#46039f"
             ],
             [
              0.2222222222222222,
              "#7201a8"
             ],
             [
              0.3333333333333333,
              "#9c179e"
             ],
             [
              0.4444444444444444,
              "#bd3786"
             ],
             [
              0.5555555555555556,
              "#d8576b"
             ],
             [
              0.6666666666666666,
              "#ed7953"
             ],
             [
              0.7777777777777778,
              "#fb9f3a"
             ],
             [
              0.8888888888888888,
              "#fdca26"
             ],
             [
              1,
              "#f0f921"
             ]
            ],
            "type": "surface"
           }
          ],
          "table": [
           {
            "cells": {
             "fill": {
              "color": "#EBF0F8"
             },
             "line": {
              "color": "white"
             }
            },
            "header": {
             "fill": {
              "color": "#C8D4E3"
             },
             "line": {
              "color": "white"
             }
            },
            "type": "table"
           }
          ]
         },
         "layout": {
          "annotationdefaults": {
           "arrowcolor": "#2a3f5f",
           "arrowhead": 0,
           "arrowwidth": 1
          },
          "autotypenumbers": "strict",
          "coloraxis": {
           "colorbar": {
            "outlinewidth": 0,
            "ticks": ""
           }
          },
          "colorscale": {
           "diverging": [
            [
             0,
             "#8e0152"
            ],
            [
             0.1,
             "#c51b7d"
            ],
            [
             0.2,
             "#de77ae"
            ],
            [
             0.3,
             "#f1b6da"
            ],
            [
             0.4,
             "#fde0ef"
            ],
            [
             0.5,
             "#f7f7f7"
            ],
            [
             0.6,
             "#e6f5d0"
            ],
            [
             0.7,
             "#b8e186"
            ],
            [
             0.8,
             "#7fbc41"
            ],
            [
             0.9,
             "#4d9221"
            ],
            [
             1,
             "#276419"
            ]
           ],
           "sequential": [
            [
             0,
             "#0d0887"
            ],
            [
             0.1111111111111111,
             "#46039f"
            ],
            [
             0.2222222222222222,
             "#7201a8"
            ],
            [
             0.3333333333333333,
             "#9c179e"
            ],
            [
             0.4444444444444444,
             "#bd3786"
            ],
            [
             0.5555555555555556,
             "#d8576b"
            ],
            [
             0.6666666666666666,
             "#ed7953"
            ],
            [
             0.7777777777777778,
             "#fb9f3a"
            ],
            [
             0.8888888888888888,
             "#fdca26"
            ],
            [
             1,
             "#f0f921"
            ]
           ],
           "sequentialminus": [
            [
             0,
             "#0d0887"
            ],
            [
             0.1111111111111111,
             "#46039f"
            ],
            [
             0.2222222222222222,
             "#7201a8"
            ],
            [
             0.3333333333333333,
             "#9c179e"
            ],
            [
             0.4444444444444444,
             "#bd3786"
            ],
            [
             0.5555555555555556,
             "#d8576b"
            ],
            [
             0.6666666666666666,
             "#ed7953"
            ],
            [
             0.7777777777777778,
             "#fb9f3a"
            ],
            [
             0.8888888888888888,
             "#fdca26"
            ],
            [
             1,
             "#f0f921"
            ]
           ]
          },
          "colorway": [
           "#636efa",
           "#EF553B",
           "#00cc96",
           "#ab63fa",
           "#FFA15A",
           "#19d3f3",
           "#FF6692",
           "#B6E880",
           "#FF97FF",
           "#FECB52"
          ],
          "font": {
           "color": "#2a3f5f"
          },
          "geo": {
           "bgcolor": "white",
           "lakecolor": "white",
           "landcolor": "white",
           "showlakes": true,
           "showland": true,
           "subunitcolor": "#C8D4E3"
          },
          "hoverlabel": {
           "align": "left"
          },
          "hovermode": "closest",
          "mapbox": {
           "style": "light"
          },
          "paper_bgcolor": "white",
          "plot_bgcolor": "white",
          "polar": {
           "angularaxis": {
            "gridcolor": "#EBF0F8",
            "linecolor": "#EBF0F8",
            "ticks": ""
           },
           "bgcolor": "white",
           "radialaxis": {
            "gridcolor": "#EBF0F8",
            "linecolor": "#EBF0F8",
            "ticks": ""
           }
          },
          "scene": {
           "xaxis": {
            "backgroundcolor": "white",
            "gridcolor": "#DFE8F3",
            "gridwidth": 2,
            "linecolor": "#EBF0F8",
            "showbackground": true,
            "ticks": "",
            "zerolinecolor": "#EBF0F8"
           },
           "yaxis": {
            "backgroundcolor": "white",
            "gridcolor": "#DFE8F3",
            "gridwidth": 2,
            "linecolor": "#EBF0F8",
            "showbackground": true,
            "ticks": "",
            "zerolinecolor": "#EBF0F8"
           },
           "zaxis": {
            "backgroundcolor": "white",
            "gridcolor": "#DFE8F3",
            "gridwidth": 2,
            "linecolor": "#EBF0F8",
            "showbackground": true,
            "ticks": "",
            "zerolinecolor": "#EBF0F8"
           }
          },
          "shapedefaults": {
           "line": {
            "color": "#2a3f5f"
           }
          },
          "ternary": {
           "aaxis": {
            "gridcolor": "#DFE8F3",
            "linecolor": "#A2B1C6",
            "ticks": ""
           },
           "baxis": {
            "gridcolor": "#DFE8F3",
            "linecolor": "#A2B1C6",
            "ticks": ""
           },
           "bgcolor": "white",
           "caxis": {
            "gridcolor": "#DFE8F3",
            "linecolor": "#A2B1C6",
            "ticks": ""
           }
          },
          "title": {
           "x": 0.05
          },
          "xaxis": {
           "automargin": true,
           "gridcolor": "#EBF0F8",
           "linecolor": "#EBF0F8",
           "ticks": "",
           "title": {
            "standoff": 15
           },
           "zerolinecolor": "#EBF0F8",
           "zerolinewidth": 2
          },
          "yaxis": {
           "automargin": true,
           "gridcolor": "#EBF0F8",
           "linecolor": "#EBF0F8",
           "ticks": "",
           "title": {
            "standoff": 15
           },
           "zerolinecolor": "#EBF0F8",
           "zerolinewidth": 2
          }
         }
        },
        "title": {
         "text": "Hub Categories by Supply and Demand (within 10 km)"
        },
        "width": 650,
        "xaxis": {
         "anchor": "y",
         "domain": [
          0,
          1
         ],
         "title": {
          "text": "Total Supply (kilo-tons)"
         }
        },
        "yaxis": {
         "anchor": "x",
         "domain": [
          0,
          1
         ],
         "title": {
          "text": "Total Demand (kilo-tons)"
         }
        }
       }
      }
     },
     "metadata": {},
     "output_type": "display_data"
    }
   ],
   "source": [
    "fig = px.scatter(\n",
    "    hub_summary,\n",
    "    x=\"total_supply_kilotons\",\n",
    "    y=\"total_demand_kilotons\",\n",
    "    color=\"category\",\n",
    "    hover_name=\"hub_id\",\n",
    "    labels={\n",
    "        \"total_supply_kilotons\": \"Total Supply (kilo-tons)\",\n",
    "        \"total_demand_kilotons\": \"Total Demand (kilo-tons)\",\n",
    "        \"category\": \"Hub Type\"\n",
    "    },\n",
    "    title=f\"Hub Categories by Supply and Demand (within {max_travel_distance/1000:.0f} km)\",\n",
    "    color_discrete_map={\n",
    "        \"High supply, high demand\": \"#2ca02c\",\n",
    "        \"High supply, low demand\": \"#1f77b4\",\n",
    "        \"Low supply, high demand\": \"#ff7f0e\",\n",
    "        \"Low supply, low demand\": \"#d62728\"\n",
    "    }\n",
    ")\n",
    "\n",
    "fig.update_layout(\n",
    "    template=\"plotly_white\",\n",
    "    width=650,\n",
    "    height=450\n",
    ")\n",
    "\n",
    "fig.show()\n"
   ]
  },
  {
   "cell_type": "markdown",
   "id": "33c8a1b2",
   "metadata": {},
   "source": [
    "✅ **Checkpoint:**  \n",
    "We’ve now compared all hubs and grouped them into categories based on their surroundings.\n",
    "\n",
    "**High supply, high demand** hubs are potentially the best circular hotspots —  \n",
    "they’re surrounded by both demolition (supply) and construction (demand).\n",
    "\n",
    "**Discussion:**\n",
    "- How might these results change with a larger or smaller distance threshold?  \n",
    "- What could make a “low supply, high demand” hub more efficient (e.g., new road links or logistics centers)?\n"
   ]
  },
  {
   "cell_type": "markdown",
   "id": "15d05786",
   "metadata": {},
   "source": [
    "# Step 5: Visualize all hubs on the map (10 min)\n",
    "\n",
    "We’ve categorized each hub based on how much **material supply** and **demand** is nearby.  \n",
    "Now, let’s map these categories to see where the most promising hubs are located.\n",
    "\n",
    "This helps us visually identify **circular hotspots** —  \n",
    "places where demolition and construction activities overlap the most."
   ]
  },
  {
   "cell_type": "code",
   "execution_count": 136,
   "id": "91f8deaa",
   "metadata": {},
   "outputs": [
    {
     "data": {
      "text/html": [
       "<div>\n",
       "<style scoped>\n",
       "    .dataframe tbody tr th:only-of-type {\n",
       "        vertical-align: middle;\n",
       "    }\n",
       "\n",
       "    .dataframe tbody tr th {\n",
       "        vertical-align: top;\n",
       "    }\n",
       "\n",
       "    .dataframe thead th {\n",
       "        text-align: right;\n",
       "    }\n",
       "</style>\n",
       "<table border=\"1\" class=\"dataframe\">\n",
       "  <thead>\n",
       "    <tr style=\"text-align: right;\">\n",
       "      <th></th>\n",
       "      <th>RIN_NUMMER</th>\n",
       "      <th>MAX_MILIEU</th>\n",
       "      <th>pPerSqm</th>\n",
       "      <th>hubName</th>\n",
       "      <th>geometry</th>\n",
       "      <th>hub_id</th>\n",
       "      <th>category</th>\n",
       "    </tr>\n",
       "  </thead>\n",
       "  <tbody>\n",
       "    <tr>\n",
       "      <th>0</th>\n",
       "      <td>1224</td>\n",
       "      <td>3</td>\n",
       "      <td>368.842673</td>\n",
       "      <td>0</td>\n",
       "      <td>POINT (127087.684 476511.77)</td>\n",
       "      <td>0</td>\n",
       "      <td>Low supply, high demand</td>\n",
       "    </tr>\n",
       "    <tr>\n",
       "      <th>1</th>\n",
       "      <td>26201302</td>\n",
       "      <td>3</td>\n",
       "      <td>369.137643</td>\n",
       "      <td>1</td>\n",
       "      <td>POINT (128235.111 473682.661)</td>\n",
       "      <td>1</td>\n",
       "      <td>Low supply, low demand</td>\n",
       "    </tr>\n",
       "    <tr>\n",
       "      <th>2</th>\n",
       "      <td>2909</td>\n",
       "      <td>3</td>\n",
       "      <td>267.265242</td>\n",
       "      <td>2</td>\n",
       "      <td>POINT (123654.056 468805.812)</td>\n",
       "      <td>2</td>\n",
       "      <td>Low supply, low demand</td>\n",
       "    </tr>\n",
       "    <tr>\n",
       "      <th>3</th>\n",
       "      <td>4433</td>\n",
       "      <td>3</td>\n",
       "      <td>326.087208</td>\n",
       "      <td>3</td>\n",
       "      <td>POINT (129052.516 470346.762)</td>\n",
       "      <td>3</td>\n",
       "      <td>Low supply, low demand</td>\n",
       "    </tr>\n",
       "    <tr>\n",
       "      <th>4</th>\n",
       "      <td>262017001</td>\n",
       "      <td>3</td>\n",
       "      <td>327.404716</td>\n",
       "      <td>4</td>\n",
       "      <td>POINT (128994.435 470188.445)</td>\n",
       "      <td>4</td>\n",
       "      <td>Low supply, low demand</td>\n",
       "    </tr>\n",
       "  </tbody>\n",
       "</table>\n",
       "</div>"
      ],
      "text/plain": [
       "  RIN_NUMMER  MAX_MILIEU     pPerSqm  hubName                       geometry  \\\n",
       "0       1224           3  368.842673        0   POINT (127087.684 476511.77)   \n",
       "1   26201302           3  369.137643        1  POINT (128235.111 473682.661)   \n",
       "2       2909           3  267.265242        2  POINT (123654.056 468805.812)   \n",
       "3       4433           3  326.087208        3  POINT (129052.516 470346.762)   \n",
       "4  262017001           3  327.404716        4  POINT (128994.435 470188.445)   \n",
       "\n",
       "   hub_id                 category  \n",
       "0       0  Low supply, high demand  \n",
       "1       1   Low supply, low demand  \n",
       "2       2   Low supply, low demand  \n",
       "3       3   Low supply, low demand  \n",
       "4       4   Low supply, low demand  "
      ]
     },
     "execution_count": 136,
     "metadata": {},
     "output_type": "execute_result"
    }
   ],
   "source": [
    "# Combine the hub category information with the hub locations\n",
    "hubs_with_cat = hubs.copy()\n",
    "hubs_with_cat = hubs_with_cat.merge(\n",
    "    hub_summary[[\"hub_id\", \"category\"]],\n",
    "    left_index=True, right_on=\"hub_id\"\n",
    ")\n",
    "\n",
    "# Check that the merge worked\n",
    "hubs_with_cat.head()\n"
   ]
  },
  {
   "cell_type": "code",
   "execution_count": 137,
   "id": "a4ce6a71",
   "metadata": {},
   "outputs": [
    {
     "data": {
      "image/png": "[encoded data removed]",
      "text/plain": [
       "<Figure size 800x800 with 1 Axes>"
      ]
     },
     "metadata": {},
     "output_type": "display_data"
    }
   ],
   "source": [
    "# Define consistent colors for the four categories\n",
    "category_colors = {\n",
    "    \"High supply, high demand\": \"#2ca02c\",   # green\n",
    "    \"High supply, low demand\": \"#1f77b4\",    # blue\n",
    "    \"Low supply, high demand\": \"#ff7f0e\",    # orange\n",
    "    \"Low supply, low demand\": \"#d62728\"      # red\n",
    "}\n",
    "\n",
    "# Plot the base road map\n",
    "ax = roads.plot(color=\"lightgrey\", linewidth=0.8, figsize=(8, 8))\n",
    "\n",
    "# Plot hubs by category\n",
    "for cat, color in category_colors.items():\n",
    "    subset = hubs_with_cat[hubs_with_cat[\"category\"] == cat]\n",
    "    subset.plot(ax=ax, color=color, markersize=60, label=cat)\n",
    "\n",
    "plt.legend(title=\"Hub Type\", loc=\"upper left\")\n",
    "plt.title(f\"Hub Categories within {max_travel_distance/1000:.0f} km\")\n",
    "plt.show()\n"
   ]
  },
  {
   "cell_type": "markdown",
   "id": "f2ff7392",
   "metadata": {},
   "source": [
    "✅ **Checkpoint:**  \n",
    "This map shows how different hubs perform based on nearby supply and demand.\n",
    "\n",
    "**Colors:**  \n",
    "- 🟢 High supply, high demand — most promising hubs for circular material flows  \n",
    "- 🔵 High supply, low demand — good for exporting recycled materials  \n",
    "- 🟠 Low supply, high demand — good for importing materials  \n",
    "- 🔴 Low supply, low demand — less active or remote areas\n",
    "\n",
    "**Questions to think about:**  \n",
    "- Do the “green” hubs cluster in certain parts of the city?  \n",
    "- Are “blue” hubs close to industrial or demolition-heavy zones?  \n",
    "- How might planners use this information to reduce transport emissions?\n"
   ]
  },
  {
   "cell_type": "markdown",
   "id": "52a78845",
   "metadata": {},
   "source": [
    "# Step 6: Wrap-up and reflection\n",
    "\n",
    "🎉 **Congratulations!**  \n",
    "You’ve just completed a spatial data analysis workflow for circular cities.\n",
    "\n",
    "In this workshop, you’ve learned how to:\n",
    "1. Load and visualize spatial data (roads, hubs, materials)  \n",
    "2. Calculate travel distances using a road network  \n",
    "3. Measure accessibility for one hub  \n",
    "4. Compare all hubs and categorize them  \n",
    "5. Map the results to find circular hotspots\n",
    "\n",
    "💡 **Key takeaway:**  \n",
    "Spatial data science helps us connect abstract ideas — like *material reuse* — to *real locations* in the city.  \n",
    "It shows where opportunities for circularity are strongest and where infrastructure could be improved.\n"
   ]
  },
  {
   "cell_type": "markdown",
   "id": "1ee659d2",
   "metadata": {},
   "source": [
    "### 🌍 Challenge for you\n",
    "\n",
    "- Try changing the distance threshold (e.g., 5 km or 20 km).  \n",
    "  How does that change which hubs are classified as “high supply, high demand”?  \n",
    "- What if we visualized only **construction demand** or only **demolition supply**?  \n",
    "- How might this approach scale up to the **regional** or **national** level?\n",
    "\n",
    "These questions show how data-driven thinking can guide circular urban planning.\n"
   ]
  }
 ],
 "metadata": {
  "kernelspec": {
   "display_name": "Python 3",
   "language": "python",
   "name": "python3"
  },
  "language_info": {
   "codemirror_mode": {
    "name": "ipython",
    "version": 3
   },
   "file_extension": ".py",
   "mimetype": "text/x-python",
   "name": "python",
   "nbconvert_exporter": "python",
   "pygments_lexer": "ipython3",
   "version": "3.10.16"
  }
 },
 "nbformat": 4,
 "nbformat_minor": 5
}
